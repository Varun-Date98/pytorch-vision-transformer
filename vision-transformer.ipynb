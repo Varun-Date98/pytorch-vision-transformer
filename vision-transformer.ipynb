{
 "cells": [
  {
   "cell_type": "markdown",
   "id": "3c8d5a62",
   "metadata": {},
   "source": [
    "Installing torchinfo module to visualize the final model"
   ]
  },
  {
   "cell_type": "code",
   "execution_count": 1,
   "id": "7bd442f2-6299-4ac4-ac74-e8ebe1901911",
   "metadata": {
    "execution": {
     "iopub.execute_input": "2025-02-09T22:38:07.856354Z",
     "iopub.status.busy": "2025-02-09T22:38:07.855803Z",
     "iopub.status.idle": "2025-02-09T22:38:10.235537Z",
     "shell.execute_reply": "2025-02-09T22:38:10.234877Z",
     "shell.execute_reply.started": "2025-02-09T22:38:07.856334Z"
    }
   },
   "outputs": [
    {
     "name": "stdout",
     "output_type": "stream",
     "text": [
      "Collecting torchinfo\n",
      "  Downloading torchinfo-1.8.0-py3-none-any.whl.metadata (21 kB)\n",
      "Downloading torchinfo-1.8.0-py3-none-any.whl (23 kB)\n",
      "Installing collected packages: torchinfo\n",
      "Successfully installed torchinfo-1.8.0\n",
      "\u001b[33mWARNING: Running pip as the 'root' user can result in broken permissions and conflicting behaviour with the system package manager. It is recommended to use a virtual environment instead: https://pip.pypa.io/warnings/venv\u001b[0m\u001b[33m\n",
      "\u001b[0m"
     ]
    }
   ],
   "source": [
    "!pip install torchinfo"
   ]
  },
  {
   "cell_type": "code",
   "execution_count": 2,
   "id": "0a8832f4-5b72-435a-9689-5d8d264b5ed8",
   "metadata": {
    "execution": {
     "iopub.execute_input": "2025-02-09T22:38:10.236859Z",
     "iopub.status.busy": "2025-02-09T22:38:10.236681Z",
     "iopub.status.idle": "2025-02-09T22:38:12.831159Z",
     "shell.execute_reply": "2025-02-09T22:38:12.830594Z",
     "shell.execute_reply.started": "2025-02-09T22:38:10.236842Z"
    }
   },
   "outputs": [],
   "source": [
    "# Importing necessary libraries\n",
    "\n",
    "import os\n",
    "import random\n",
    "import numpy as np\n",
    "from tqdm.notebook import tqdm, trange\n",
    "\n",
    "import torch\n",
    "from torch import nn as nn\n",
    "from torch.utils.data import Dataset, DataLoader\n",
    "\n",
    "from torchinfo import summary\n",
    "\n",
    "import torchvision\n",
    "from PIL import Image\n",
    "from torchvision import transforms as T\n",
    "from torchvision.datasets import ImageFolder\n",
    "\n",
    "import matplotlib.pyplot as plt"
   ]
  },
  {
   "cell_type": "markdown",
   "id": "090170bc",
   "metadata": {},
   "source": [
    "# Introduction: Vision Transformers (ViTs)\n",
    "\n",
    "Transformers have revolutionized Natural Language Processing (NLP), but their impact is not limited to text. In recent years, Vision Transformers (ViTs) have emerged as a powerful alternative to traditional Convolutional Neural Networks (CNNs) for image classification tasks. Unlike CNNs, which process images using hierarchical feature maps, ViTs treat an image as a sequence of patches and apply self-attention to model long-range dependencies across the entire image.\n",
    "\n",
    "In this notebook, I will implement a Vision Transformer (ViT) from scratch using PyTorch, train it on the Tiny ImageNet dataset, and analyze its performance. This project aims to deepen the understanding of self-attention mechanisms in computer vision and explore the challenges of training ViTs without large-scale pretraining."
   ]
  },
  {
   "cell_type": "markdown",
   "id": "b08fd483-bb67-47ed-87c3-368bad6e7365",
   "metadata": {},
   "source": [
    "## 1. Preparing data for training"
   ]
  },
  {
   "cell_type": "markdown",
   "id": "60fb1916",
   "metadata": {},
   "source": [
    "#### 1.1. About the data set\n",
    "\n",
    "Training Vision Transformers (ViTs) from scratch requires large-scale datasets like ImageNet-21k or JFT-300M. However, due to computational limitations, we use Tiny ImageNet, a lightweight benchmark dataset that retains the complexity of ImageNet while being manageable on standard hardware.\n",
    "\n",
    "About Tiny ImageNet\n",
    "200 object categories (compared to 1000 in ImageNet)\n",
    "500 training images per class (64×64 resolution)\n",
    "50 validation images per class\n",
    "100,000 total images, making it ideal for rapid prototyping and experimentation with deep learning models.\n",
    "In the next steps, we will download, extract, and preprocess the Tiny ImageNet dataset before training our Vision Transformer model."
   ]
  },
  {
   "cell_type": "code",
   "execution_count": null,
   "id": "61b0f43b-2789-4035-a6c8-d795725ca4f2",
   "metadata": {
    "execution": {
     "iopub.execute_input": "2025-02-09T20:46:35.684350Z",
     "iopub.status.busy": "2025-02-09T20:46:35.684111Z",
     "iopub.status.idle": "2025-02-09T20:47:03.013148Z",
     "shell.execute_reply": "2025-02-09T20:47:03.011769Z",
     "shell.execute_reply.started": "2025-02-09T20:46:35.684333Z"
    }
   },
   "outputs": [
    {
     "name": "stdout",
     "output_type": "stream",
     "text": [
      "Data extraction completed.\n"
     ]
    }
   ],
   "source": [
    "# Extracting dataset stored in archive.zip\n",
    "\n",
    "import zipfile\n",
    "\n",
    "archive_path = \"./archive.zip\"\n",
    "extract_path = \"./\"\n",
    "\n",
    "if not os.path.exists(\"tiny-imagenet-200\"):\n",
    "    with zipfile.ZipFile(archive_path, \"r\") as zf:\n",
    "        zf.extractall(extract_path)\n",
    "    \n",
    "    print(\"Data extraction completed.\")\n",
    "else:\n",
    "    print(f\"Data already exists\")"
   ]
  },
  {
   "cell_type": "code",
   "execution_count": 40,
   "id": "53a97a35-3eaf-4451-be0a-bd798c69732e",
   "metadata": {
    "execution": {
     "iopub.execute_input": "2025-02-09T23:13:18.426770Z",
     "iopub.status.busy": "2025-02-09T23:13:18.426294Z",
     "iopub.status.idle": "2025-02-09T23:13:18.566326Z",
     "shell.execute_reply": "2025-02-09T23:13:18.565744Z",
     "shell.execute_reply.started": "2025-02-09T23:13:18.426749Z"
    }
   },
   "outputs": [
    {
     "name": "stdout",
     "output_type": "stream",
     "text": [
      "Contents of DATA_DIR ['train', 'val', 'words.txt', 'wnids.txt', '.ipynb_checkpoints', 'test']\n",
      "First 5 contents of TRAIN_IMAGES_DIR ['n02814533', 'n02113799', 'n02883205', 'n04597913', 'n03733131']\n",
      "First 5 contents of VAL_IMAGES_DIR ['val_3701.JPEG', 'val_7022.JPEG', 'val_558.JPEG', 'val_1403.JPEG', 'val_7263.JPEG']\n",
      "First 5 contents of TEST_IMAGES_DIR ['test_2094.JPEG', 'test_5720.JPEG', 'test_3805.JPEG', 'test_3094.JPEG', 'test_7928.JPEG']\n"
     ]
    }
   ],
   "source": [
    "# Setting up paths\n",
    "DATA_DIR = \"tiny-imagenet-200/\"\n",
    "TRAIN_IMAGES_DIR = os.path.join(DATA_DIR, \"train\")\n",
    "TEST_IMAGES_DIR = os.path.join(DATA_DIR, \"test\", \"images\")\n",
    "VAL_IMAGES_DIR = os.path.join(DATA_DIR, \"val\", \"images\")\n",
    "\n",
    "# Seeing contents of the dataset\n",
    "print(\"Contents of DATA_DIR\", os.listdir(DATA_DIR))\n",
    "print(\"First 5 contents of TRAIN_IMAGES_DIR\", os.listdir(TRAIN_IMAGES_DIR)[:5])\n",
    "print(\"First 5 contents of VAL_IMAGES_DIR\", os.listdir(VAL_IMAGES_DIR)[:5])\n",
    "print(\"First 5 contents of TEST_IMAGES_DIR\", os.listdir(TEST_IMAGES_DIR)[:5])"
   ]
  },
  {
   "cell_type": "markdown",
   "id": "d4dedfa1-27b6-4ebe-8e29-73f65dd47111",
   "metadata": {},
   "source": [
    "#### 1.2. Creating training data set and data loader\n",
    "\n",
    "Before we can load the training data we have to set up transforms. Becaus we only have 500 test images per class in our training data we have to use augmentation to improve the model performance.\n",
    "\n",
    "We will use the following transforms:\n",
    "1. Resize the images to 64 x 64\n",
    "2. Do a random horizontal flip\n",
    "3. Use `torchvision.transforms.RandAugment` to randomly augment the training data"
   ]
  },
  {
   "cell_type": "code",
   "execution_count": 41,
   "id": "d3c9ba86-747e-4605-839d-cb941fe92f7b",
   "metadata": {
    "execution": {
     "iopub.execute_input": "2025-02-09T23:13:22.119994Z",
     "iopub.status.busy": "2025-02-09T23:13:22.119327Z",
     "iopub.status.idle": "2025-02-09T23:13:23.549358Z",
     "shell.execute_reply": "2025-02-09T23:13:23.548089Z",
     "shell.execute_reply.started": "2025-02-09T23:13:22.119977Z"
    }
   },
   "outputs": [
    {
     "name": "stdout",
     "output_type": "stream",
     "text": [
      "CPU times: user 181 ms, sys: 62.4 ms, total: 244 ms\n",
      "Wall time: 1.42 s\n"
     ]
    }
   ],
   "source": [
    "%%time\n",
    "# Setting up training data set train dataloader\n",
    "\n",
    "train_transform = T.Compose([\n",
    "    T.Resize((64, 64)),\n",
    "    T.RandomHorizontalFlip(),\n",
    "    T.RandAugment(num_ops=2, magnitude=6),\n",
    "    T.ToTensor()\n",
    "    # Using Imagenet global mean and std to normalize tiny-imagenet\n",
    "    # T.Normalize(mean=[0.485, 0.456, 0.406], std=[0.229, 0.224, 0.225])\n",
    "])\n",
    "\n",
    "train_dataset = ImageFolder(root=TRAIN_IMAGES_DIR, transform=train_transform)\n",
    "train_dataloader = DataLoader(train_dataset, batch_size=64, shuffle=True, num_workers=8)"
   ]
  },
  {
   "cell_type": "code",
   "execution_count": 42,
   "id": "04f5936e-afd5-4173-9893-bdc563e955f6",
   "metadata": {
    "execution": {
     "iopub.execute_input": "2025-02-09T23:13:26.583823Z",
     "iopub.status.busy": "2025-02-09T23:13:26.583322Z",
     "iopub.status.idle": "2025-02-09T23:13:28.061792Z",
     "shell.execute_reply": "2025-02-09T23:13:28.061125Z",
     "shell.execute_reply.started": "2025-02-09T23:13:26.583790Z"
    }
   },
   "outputs": [
    {
     "name": "stdout",
     "output_type": "stream",
     "text": [
      "Train dataloader length 1563\n",
      "Samples shape: torch.Size([64, 3, 64, 64]) | Labels shape: torch.Size([64])\n"
     ]
    }
   ],
   "source": [
    "# Checking that dataloader is working as expected\n",
    "samples, labels = next(iter(train_dataloader))\n",
    "print(\"Train dataloader length\", len(train_dataloader))\n",
    "print(f\"Samples shape: {samples.shape} | Labels shape: {labels.shape}\")"
   ]
  },
  {
   "cell_type": "code",
   "execution_count": 37,
   "id": "acee9e90-4d5d-4877-9ef2-1968e770907b",
   "metadata": {
    "execution": {
     "iopub.execute_input": "2025-02-09T20:48:05.402364Z",
     "iopub.status.busy": "2025-02-09T20:48:05.402155Z",
     "iopub.status.idle": "2025-02-09T20:48:05.515153Z",
     "shell.execute_reply": "2025-02-09T20:48:05.507132Z",
     "shell.execute_reply.started": "2025-02-09T20:48:05.402343Z"
    }
   },
   "outputs": [
    {
     "data": {
      "image/png": "[encoded data removed]",
      "text/plain": [
       "<Figure size 500x500 with 1 Axes>"
      ]
     },
     "metadata": {},
     "output_type": "display_data"
    }
   ],
   "source": [
    "# Plotting a random image from samples\n",
    "idx = random.randint(0, 63)\n",
    "img, lbl = samples[idx], labels[idx]\n",
    "\n",
    "plt.figure(figsize=(5, 5))\n",
    "plt.imshow(img.permute(1, 2, 0))\n",
    "plt.title(f\"Class: {lbl.item()}\")\n",
    "plt.axis(False)\n",
    "plt.show()"
   ]
  },
  {
   "cell_type": "markdown",
   "id": "914cb966-03dd-432b-adbd-6c7d56e8554b",
   "metadata": {},
   "source": [
    "#### 1.3. Creating validation dataset and dataloader\n",
    "\n",
    "For the validation set, the images are not separated into different folder for each class. So we can not use `torchvision.dataset.ImageFolder` here. We will create a custom dataset class to create dataset and dataloader.\n",
    "\n",
    "This custom class will do the following:\n",
    "- Save paths to each validation image.\n",
    "- Create a mapping between image name and corresponding class name from annotation.\n",
    "- Return `PIL.Image` and its class index in the `__getitem__` method.\n",
    "\n",
    "To create this custom class we will need:\n",
    "1. Path to validation images\n",
    "2. Path to annotations file\n",
    "3. Class to index mapping from train dataset\n",
    "4. Optional transforms to transform images before returning them"
   ]
  },
  {
   "cell_type": "code",
   "execution_count": 43,
   "id": "b2d66f3f-5cdd-43cd-8baf-6fea683dc166",
   "metadata": {
    "execution": {
     "iopub.execute_input": "2025-02-09T23:13:32.151444Z",
     "iopub.status.busy": "2025-02-09T23:13:32.151188Z",
     "iopub.status.idle": "2025-02-09T23:13:32.156552Z",
     "shell.execute_reply": "2025-02-09T23:13:32.156101Z",
     "shell.execute_reply.started": "2025-02-09T23:13:32.151423Z"
    }
   },
   "outputs": [],
   "source": [
    "# Creating custom dataset for validation images\n",
    "\n",
    "\n",
    "class TinyImagenetValidationDataset(Dataset):\n",
    "    def __init__(self, img_dir, annotations_file, class_to_idx, transform=None):\n",
    "        \"\"\"\n",
    "        Args:\n",
    "            img_dir (str): Path to the validation images directory.\n",
    "            annotations_file (str): Path to the val_annotations.txt file.\n",
    "            class_to_idx (dict): Mapping from class names to class indices.\n",
    "            transform (torchvision transforms): Optional transforms to apply to images.\n",
    "        \"\"\"\n",
    "        self.img_dir = img_dir\n",
    "        self.transform = transform\n",
    "        self.class_to_idx = class_to_idx\n",
    "        self.img_labels = {}  # Maps image to class index\n",
    "\n",
    "        # Read annotations file and store image-label mappings\n",
    "        with open(annotations_file, \"r\") as f:\n",
    "            for line in f:\n",
    "                parts = line.strip().split(\"\\t\")\n",
    "                img_name = parts[0]\n",
    "                class_name = parts[1]\n",
    "                self.img_labels[img_name] = self.class_to_idx[class_name]\n",
    "\n",
    "        # Store image filenames for indexing\n",
    "        self.img_filenames = list(self.img_labels.keys())\n",
    "\n",
    "    def __len__(self):\n",
    "        return len(self.img_filenames)\n",
    "\n",
    "    def __getitem__(self, idx):\n",
    "        img_name = self.img_filenames[idx]\n",
    "        img_path = os.path.join(self.img_dir, img_name)\n",
    "        image = Image.open(img_path).convert(\"RGB\")\n",
    "\n",
    "        label = self.img_labels[img_name]\n",
    "\n",
    "        if self.transform:\n",
    "            image = self.transform(image)\n",
    "\n",
    "        return image, label"
   ]
  },
  {
   "cell_type": "code",
   "execution_count": 44,
   "id": "404d05ca-bd03-4328-bc87-650dffed9d27",
   "metadata": {
    "execution": {
     "iopub.execute_input": "2025-02-09T23:13:34.919107Z",
     "iopub.status.busy": "2025-02-09T23:13:34.918469Z",
     "iopub.status.idle": "2025-02-09T23:13:34.932568Z",
     "shell.execute_reply": "2025-02-09T23:13:34.932238Z",
     "shell.execute_reply.started": "2025-02-09T23:13:34.919087Z"
    }
   },
   "outputs": [
    {
     "name": "stdout",
     "output_type": "stream",
     "text": [
      "CPU times: user 3.29 ms, sys: 2.97 ms, total: 6.26 ms\n",
      "Wall time: 9.74 ms\n"
     ]
    }
   ],
   "source": [
    "%%time\n",
    "# Setting up validation dataset and dataloader\n",
    "\n",
    "test_transform = T.Compose([\n",
    "    T.Resize((64, 64)),\n",
    "    T.ToTensor()\n",
    "])\n",
    "\n",
    "class_to_idx = train_dataset.class_to_idx\n",
    "idx_to_class = {idx: cls for cls, idx in class_to_idx.items()}\n",
    "val_annotations_file = os.path.join(DATA_DIR, \"val\", \"val_annotations.txt\")\n",
    "val_dataset = TinyImagenetValidationDataset(VAL_IMAGES_DIR, val_annotations_file, class_to_idx, test_transform)\n",
    "val_dataloader = DataLoader(val_dataset, batch_size=64, shuffle=False, num_workers=8)"
   ]
  },
  {
   "cell_type": "code",
   "execution_count": 40,
   "id": "802f097e-3093-491b-a2f8-2d079410e528",
   "metadata": {
    "execution": {
     "iopub.execute_input": "2025-02-09T20:48:10.959384Z",
     "iopub.status.busy": "2025-02-09T20:48:10.958896Z",
     "iopub.status.idle": "2025-02-09T20:48:12.721461Z",
     "shell.execute_reply": "2025-02-09T20:48:12.720908Z",
     "shell.execute_reply.started": "2025-02-09T20:48:10.959365Z"
    }
   },
   "outputs": [
    {
     "name": "stdout",
     "output_type": "stream",
     "text": [
      "Train dataloader length 157\n",
      "Samples shape: torch.Size([64, 3, 64, 64]) | Labels shape: torch.Size([64])\n"
     ]
    }
   ],
   "source": [
    "# Testing the validation dataloader\n",
    "samples, labels = next(iter(val_dataloader))\n",
    "print(\"Train dataloader length\", len(val_dataloader))\n",
    "print(f\"Samples shape: {samples.shape} | Labels shape: {labels.shape}\")"
   ]
  },
  {
   "cell_type": "code",
   "execution_count": 41,
   "id": "dddfb471-ed62-42d9-83f5-a09fba7ff238",
   "metadata": {
    "execution": {
     "iopub.execute_input": "2025-02-09T20:48:12.722815Z",
     "iopub.status.busy": "2025-02-09T20:48:12.722639Z",
     "iopub.status.idle": "2025-02-09T20:48:12.819370Z",
     "shell.execute_reply": "2025-02-09T20:48:12.818650Z",
     "shell.execute_reply.started": "2025-02-09T20:48:12.722799Z"
    }
   },
   "outputs": [
    {
     "data": {
      "image/png": "[encoded data removed]",
      "text/plain": [
       "<Figure size 1000x600 with 1 Axes>"
      ]
     },
     "metadata": {},
     "output_type": "display_data"
    }
   ],
   "source": [
    "# Plotting a random denormalized image from validation set\n",
    "\n",
    "idx = random.randint(0, 63)\n",
    "img, lbl = samples[idx], labels[idx]\n",
    "\n",
    "plt.figure(figsize=(10, 6))\n",
    "plt.imshow(img.permute(1, 2, 0))\n",
    "plt.title(f\"Class: {lbl.item()}\")\n",
    "plt.axis(False)\n",
    "plt.show()"
   ]
  },
  {
   "cell_type": "markdown",
   "id": "dfb32ef4-ef3c-4beb-974f-22774c4c5bde",
   "metadata": {},
   "source": [
    "## 2. Re-creating the Vision Transformer Model\n",
    "\n",
    "There are _ core parts of a Vision Transformer\n",
    "1. **Patch Embeddings** - Converts the input image into fixed size patches, flattens them and projects them into an embedding space. Also, adds a learnable class token and position embeddings to retain spatial data.\n",
    "2. **Multi Headed Self Attention** - Learns relationships between different patches of the image allowing the model to learn wider dependencies in the image.\n",
    "3. **Multi Layer Perceptron** - This is a feed forward layer that expands feature dimensions and adds non-linearity to the network using GELU activation.\n",
    "4. **Transformer Encoder Block** - Uses Multi-Headed Self Attention (MHSA) and Multi Layer Perceptron (MLP) with Residual connections to create a holistic understanding of the image.\n",
    "\n",
    "I will use the default sizes from the ViT paper to create this model. That means the image dimensions will be 224 x 224, patch size is 16 and embeddings dimension is 768."
   ]
  },
  {
   "cell_type": "markdown",
   "id": "0e2edd51-1373-42a1-84d7-6e9b09fc7c4e",
   "metadata": {},
   "source": [
    "#### 2.1 Creating Patch Embeddings layer\n",
    "\n",
    "The `PatchEmbeddings` layer of the Vision Transformer converts the input image into fixed size blocks. These blocks are then flattened into a single dimension. It also creates a learnable `ClassToken` and `PositionEmbeddings`, the class token is prepended to the flattened feature maps and then the position embeddings are added.\n",
    "\n",
    "We will follow the below steps to recreate this layer:\n",
    "1. Convert the image to patches using `torch.nn.Conv2d`.\n",
    "2. Flatten the image patches into a single dimension tensor using `torch.nn.Flatten`.\n",
    "3. Create a learnable Class Token using `nn.Parameter`.\n",
    "4. Create a learnable Position Embedding using `nn.Parameter`\n",
    "5. Prepend the Class Token to the flattened feature maps.\n",
    "6. Add Position Embeddings to the flattened feature maps."
   ]
  },
  {
   "cell_type": "code",
   "execution_count": 4,
   "id": "331c2db4-9e05-40b7-8166-83d3ea49320b",
   "metadata": {
    "execution": {
     "iopub.execute_input": "2025-02-09T22:46:15.275491Z",
     "iopub.status.busy": "2025-02-09T22:46:15.274879Z",
     "iopub.status.idle": "2025-02-09T22:46:15.281095Z",
     "shell.execute_reply": "2025-02-09T22:46:15.280545Z",
     "shell.execute_reply.started": "2025-02-09T22:46:15.275467Z"
    }
   },
   "outputs": [],
   "source": [
    "class PatchEmbeddings(nn.Module):\n",
    "    \"\"\"Class to convert a 2D image into 1D learnable embedding tensor\"\"\"\n",
    "    def __init__(self,\n",
    "                 img_size: int = 64,\n",
    "                 in_channels: int = 3,\n",
    "                 patch_size: int = 4,\n",
    "                 embedding_dim: int = 256):\n",
    "        super(PatchEmbeddings, self).__init__()\n",
    "        \n",
    "        assert img_size % patch_size == 0, f\"Image size should be a multiple of patch size. Image size {img_size} and patch size {patch_size}\"\n",
    "        \n",
    "        self.patch_size = patch_size\n",
    "        self.num_patches = (img_size // patch_size) ** 2\n",
    "        \n",
    "        # Conv2d patching layer\n",
    "        self.patcher = nn.Conv2d(in_channels=in_channels,\n",
    "                                 out_channels=embedding_dim,\n",
    "                                 kernel_size=patch_size,\n",
    "                                 stride=patch_size,\n",
    "                                 padding=0)\n",
    "        \n",
    "        # Creating class token\n",
    "        self.class_token = nn.Parameter(data=torch.randn(1, 1, embedding_dim), requires_grad=True)\n",
    "        \n",
    "        # Creating position embeddinggs\n",
    "        self.position_embeddings = nn.Parameter(data=torch.randn(1, self.num_patches + 1, embedding_dim), requires_grad=True)\n",
    "\n",
    "        # Flatten layer\n",
    "        # Flatten the height and width dimension into a single dimension\n",
    "        # while preserving color channels and batch dimensions.\n",
    "        self.flatten = nn.Flatten(start_dim=2, end_dim=3)\n",
    "\n",
    "    def forward(self, X: torch.Tensor):\n",
    "        # Checking if inputs are correct\n",
    "        batch_size = X.shape[0]\n",
    "        \n",
    "        # Perform the forward pass\n",
    "        x_patched = self.patcher(X)\n",
    "        x_flattened = self.flatten(x_patched)\n",
    "\n",
    "        # Making sure that the output dimensions are in the right order\n",
    "        x_flatten = x_flattened.permute(0, 2, 1)\n",
    "        \n",
    "        # Getting the class token\n",
    "        class_token = self.class_token.expand(batch_size, -1, -1)\n",
    "        \n",
    "        # Prepending class token to patch embedding\n",
    "        X = torch.cat((class_token, x_flatten), dim=1)\n",
    "        \n",
    "        # Adding position embeddings\n",
    "        X = X + self.position_embeddings\n",
    "        return X"
   ]
  },
  {
   "cell_type": "code",
   "execution_count": 43,
   "id": "bee1777a-87ec-412b-8ceb-958e98aa0b07",
   "metadata": {
    "execution": {
     "iopub.execute_input": "2025-02-09T20:48:13.108952Z",
     "iopub.status.busy": "2025-02-09T20:48:13.108515Z",
     "iopub.status.idle": "2025-02-09T20:48:13.155495Z",
     "shell.execute_reply": "2025-02-09T20:48:13.153899Z",
     "shell.execute_reply.started": "2025-02-09T20:48:13.108933Z"
    }
   },
   "outputs": [
    {
     "name": "stdout",
     "output_type": "stream",
     "text": [
      "Input dimensions: torch.Size([1, 3, 64, 64])\n",
      "Patch Embedding dimensions: torch.Size([1, 257, 256])\n"
     ]
    }
   ],
   "source": [
    "# Testing the PatchEmbeddings class\n",
    "\n",
    "patchefier = PatchEmbeddings()\n",
    "image = torch.randn(3, 64, 64).unsqueeze(0)    # Adding batch dimension\n",
    "print(f\"Input dimensions: {image.shape}\")\n",
    "patch_pos_embedding_out = patchefier(image)\n",
    "print(f\"Patch Embedding dimensions: {patch_pos_embedding_out.shape}\")"
   ]
  },
  {
   "cell_type": "markdown",
   "id": "d3e09359-5137-4fe5-8060-a4e702346bed",
   "metadata": {},
   "source": [
    "#### 2.2 Creating Multi-Headded Self-Attention block\n",
    "\n",
    "To create the MHSA block we will use some prebuilt layers available in PyTorch.\n",
    "- Multi-Headed Self-Attention (MHSA) - `torch.nn.MultiheadAttention`\n",
    "- Layer Norm (LN) - `torch.nn.LayerNorm`\n",
    "- Residual connection - add the input from previous layer to its output\n",
    "\n",
    "**Layer Norm:**\n",
    "\n",
    "A LayerNorm standardizes the input tensor to have similar mean and standard deviation. This helps neural networks to optimize data and improve efficiency.\n",
    "\n",
    "**Multi-Headed Self-Attention:**\n",
    "\n",
    "The original Transformer architecture relies on the power of self-attention or multi-head attention (self-attention applied multiple times).\n",
    "\n",
    "Originally designed for text input, the self-attention mechanism takes a sequence of words and then calculates which word should pay more **attention** to another word.\n",
    "\n",
    "Since our input is a sequence of image patches rather than words, self-attention will calculate which patch of an image is most related to another patch, eventually forming a learned representation of the image.\n",
    "\n",
    "The implementation of multi-head attention takes three inputs query, key and value. In our case, this input will be three versions of the output of the Norm layer, one for query, key and value.\n",
    "\n",
    "\n",
    "\n",
    "\n",
    "To do so we will:\n",
    "1. Create a class called `MultiHeadSelfAttentionBlock`.\n",
    "2. Initialize the class with hyper-parameters from ViT paper for the base ViT model.\n",
    "3. Create a layer normalization (LN) layer with `torch.nn.LayerNorm` with the `normalized_shape` parameter the same as our embedding embedding dimension.\n",
    "4. Create a multi-head self attention (MHSA) layer with the appropriate `embed_dim`, `num_heads`, `dropout` and `batch_first` parameters.\n",
    "5. Create the `forward` method for our class passing the inputs through the LN and MHSA layers."
   ]
  },
  {
   "cell_type": "code",
   "execution_count": 5,
   "id": "ae04f2a4-7557-4a31-af68-d5a8a2654602",
   "metadata": {
    "execution": {
     "iopub.execute_input": "2025-02-09T22:46:20.430315Z",
     "iopub.status.busy": "2025-02-09T22:46:20.429778Z",
     "iopub.status.idle": "2025-02-09T22:46:20.433997Z",
     "shell.execute_reply": "2025-02-09T22:46:20.433462Z",
     "shell.execute_reply.started": "2025-02-09T22:46:20.430294Z"
    }
   },
   "outputs": [],
   "source": [
    "class MultiHeadSelfAttentionBlock(nn.Module):\n",
    "    \"\"\"Creates a Multi-Headded Self-Attention block for Vision Transformer\"\"\"\n",
    "    def __init__(self, embedding_dim: int = 256, num_heads: int = 8, attn_dropout: float = 0):\n",
    "        super(MultiHeadSelfAttentionBlock, self).__init__()\n",
    "\n",
    "        # Creating the normalization layer\n",
    "        self.norm = nn.LayerNorm(normalized_shape=embedding_dim)\n",
    "\n",
    "        # Creating the MHSA layer\n",
    "        self.attn = nn.MultiheadAttention(embed_dim=embedding_dim,\n",
    "                                          num_heads=num_heads,\n",
    "                                          dropout=attn_dropout,\n",
    "                                          batch_first=True)\n",
    "\n",
    "    def forward(self, X: torch.Tensor):\n",
    "        X = self.norm(X)\n",
    "        X, _ = self.attn(query=X, key=X, value=X, need_weights=False)\n",
    "        return X"
   ]
  },
  {
   "cell_type": "code",
   "execution_count": 45,
   "id": "3f0ef307-1f4e-4f7e-82ba-32b92ca119b8",
   "metadata": {
    "execution": {
     "iopub.execute_input": "2025-02-09T20:48:14.540016Z",
     "iopub.status.busy": "2025-02-09T20:48:14.539430Z",
     "iopub.status.idle": "2025-02-09T20:48:14.562379Z",
     "shell.execute_reply": "2025-02-09T20:48:14.562046Z",
     "shell.execute_reply.started": "2025-02-09T20:48:14.540000Z"
    }
   },
   "outputs": [
    {
     "name": "stdout",
     "output_type": "stream",
     "text": [
      "Tensor shape before MHSA block: torch.Size([1, 257, 256])\n",
      "Tensor shape after MHSA block: torch.Size([1, 257, 256])\n"
     ]
    }
   ],
   "source": [
    "# Testing MHSA block\n",
    "multi_head_sa_block = MultiHeadSelfAttentionBlock(embedding_dim=256, num_heads=8)\n",
    "mhsa_out = multi_head_sa_block(patch_pos_embedding_out)\n",
    "print(f\"Tensor shape before MHSA block: {patch_pos_embedding_out.shape}\")\n",
    "print(f\"Tensor shape after MHSA block: {mhsa_out.shape}\")"
   ]
  },
  {
   "cell_type": "markdown",
   "id": "0efbf176-6278-45ed-b028-03244d8ff3cd",
   "metadata": {},
   "source": [
    "#### 2.3 Creating the Multilayer Perceptron block\n",
    "\n",
    "Let us now create the last part of the Vision Transformer, the Transformer Encoder Block. This block uses a Multi Layer Perceptron (MLP) layer and the Multi-Headed Self-Attention (MHSA) layers to produce the final output. It achieves this by passing the outputs of MHSA layer through an MLP layer which is just a dense layer that outputs the image class.\n",
    "\n",
    "We will implement the following to complete our Transformer Encoder Block:\n",
    "1. Replicate the `MLPLayer` from ViT paper with parameters for the base ViT model.\n",
    "2. Create a `TransformerEncoderBlock` class to combine `MultiHeadSelfAttentionBlock` and `MLPLayer`."
   ]
  },
  {
   "cell_type": "code",
   "execution_count": 6,
   "id": "74b15aae-d670-4643-b512-bb967d96a465",
   "metadata": {
    "execution": {
     "iopub.execute_input": "2025-02-09T22:46:24.356541Z",
     "iopub.status.busy": "2025-02-09T22:46:24.355885Z",
     "iopub.status.idle": "2025-02-09T22:46:24.360374Z",
     "shell.execute_reply": "2025-02-09T22:46:24.359846Z",
     "shell.execute_reply.started": "2025-02-09T22:46:24.356518Z"
    }
   },
   "outputs": [],
   "source": [
    "class MLPLayer(nn.Module):\n",
    "    \"\"\"Creates a normalized multi layer perceptron block\"\"\"\n",
    "    def __init__(self, embedding_dim:int = 256, mlp_size:int = 1024, dropout:float = 0.1):\n",
    "        super(MLPLayer, self).__init__()\n",
    "\n",
    "        # Lormalization layer\n",
    "        self.norm = nn.LayerNorm(normalized_shape=embedding_dim)\n",
    "\n",
    "        # Multi layer perceptron layer\n",
    "        self.mlp = nn.Sequential(\n",
    "            nn.Linear(in_features=embedding_dim, out_features=mlp_size),\n",
    "            nn.GELU(),\n",
    "            nn.Dropout(p=dropout),\n",
    "            nn.Linear(in_features=mlp_size, out_features=embedding_dim),\n",
    "            nn.Dropout(p=dropout)\n",
    "        )\n",
    "\n",
    "    def forward(self, X: torch.Tensor):\n",
    "        X = self.norm(X)\n",
    "        X = self.mlp(X)\n",
    "        return X"
   ]
  },
  {
   "cell_type": "code",
   "execution_count": 47,
   "id": "dc23e734-8511-4c51-9333-75e86190272c",
   "metadata": {
    "execution": {
     "iopub.execute_input": "2025-02-09T20:48:15.892364Z",
     "iopub.status.busy": "2025-02-09T20:48:15.891690Z",
     "iopub.status.idle": "2025-02-09T20:48:15.914473Z",
     "shell.execute_reply": "2025-02-09T20:48:15.914062Z",
     "shell.execute_reply.started": "2025-02-09T20:48:15.892355Z"
    }
   },
   "outputs": [
    {
     "name": "stdout",
     "output_type": "stream",
     "text": [
      "Tensor shape before MLP block: torch.Size([1, 257, 256])\n",
      "Tensor shape after MLP block: torch.Size([1, 257, 256])\n"
     ]
    }
   ],
   "source": [
    "# Testing the MLP block\n",
    "mlp_block = MLPLayer(embedding_dim=256, mlp_size=1024, dropout=0.1)\n",
    "mlp_out = mlp_block(mhsa_out)\n",
    "print(f\"Tensor shape before MLP block: {mhsa_out.shape}\")\n",
    "print(f\"Tensor shape after MLP block: {mlp_out.shape}\")"
   ]
  },
  {
   "cell_type": "code",
   "execution_count": 7,
   "id": "6f63571f-6ac7-49fe-8923-0b75d074ae01",
   "metadata": {
    "execution": {
     "iopub.execute_input": "2025-02-09T22:46:26.896440Z",
     "iopub.status.busy": "2025-02-09T22:46:26.896006Z",
     "iopub.status.idle": "2025-02-09T22:46:26.900332Z",
     "shell.execute_reply": "2025-02-09T22:46:26.899800Z",
     "shell.execute_reply.started": "2025-02-09T22:46:26.896420Z"
    }
   },
   "outputs": [],
   "source": [
    "class TransformerEncoderBlock(nn.Module):\n",
    "    \"\"\"Creates a ViT transformer encoder block\"\"\"\n",
    "    def __init__(self,\n",
    "                 embedding_dim:int=256,\n",
    "                 num_heads:int=8,\n",
    "                 mlp_size:int=1024,\n",
    "                 mlp_dropout:float=0.1,\n",
    "                 attn_dropout:float=0):\n",
    "        super(TransformerEncoderBlock, self).__init__()\n",
    "\n",
    "        # Create the MSA block\n",
    "        self.msa = MultiHeadSelfAttentionBlock(embedding_dim=embedding_dim,\n",
    "                                               num_heads=num_heads,\n",
    "                                               attn_dropout=attn_dropout)\n",
    "\n",
    "        # Create teh MLP block\n",
    "        self.mlp = MLPLayer(embedding_dim=embedding_dim,\n",
    "                            mlp_size=mlp_size,\n",
    "                            dropout=mlp_dropout)\n",
    "\n",
    "    def forward(self, X: torch.Tensor):\n",
    "        # Create residual connection for MSA block\n",
    "        X = self.msa(X) + X\n",
    "\n",
    "        # Create residual connection for MLP block\n",
    "        X = self.mlp(X) + X\n",
    "        return X"
   ]
  },
  {
   "cell_type": "code",
   "execution_count": 49,
   "id": "23bebb1d-0a0d-41a3-917f-7846ef380851",
   "metadata": {
    "execution": {
     "iopub.execute_input": "2025-02-09T20:48:17.130563Z",
     "iopub.status.busy": "2025-02-09T20:48:17.130023Z",
     "iopub.status.idle": "2025-02-09T20:48:17.192376Z",
     "shell.execute_reply": "2025-02-09T20:48:17.191743Z",
     "shell.execute_reply.started": "2025-02-09T20:48:17.130542Z"
    }
   },
   "outputs": [
    {
     "name": "stdout",
     "output_type": "stream",
     "text": [
      "Tensor shape before Transformer Encoder block: torch.Size([1, 257, 256])\n",
      "Tensor shape after Transformer Encoder block: torch.Size([1, 257, 256])\n"
     ]
    }
   ],
   "source": [
    "# Testing the Transformer encoder block\n",
    "transformer_encoder_block = TransformerEncoderBlock()\n",
    "transormer_encoder_out = transformer_encoder_block(patch_pos_embedding_out)\n",
    "print(f\"Tensor shape before Transformer Encoder block: {patch_pos_embedding_out.shape}\")\n",
    "print(f\"Tensor shape after Transformer Encoder block: {transormer_encoder_out.shape}\")"
   ]
  },
  {
   "cell_type": "markdown",
   "id": "7ea44f36-0537-435e-9192-dddea0cd0a0e",
   "metadata": {},
   "source": [
    "## Putting it all together to create ViT\n",
    "\n",
    "Now that we have replicated all parts of the ViT model separately, its time to put them together and create the full ViT model.\n",
    "\n",
    "To do this we will:\n",
    "1. Create a class `ViT` that inherits from `torch.nn.Module`.\n",
    "2. Initialize the class with hyper-parameters from the ViT paper for the base model.\n",
    "3. Setup the embedding dropout layer.\n",
    "4. Create the patch embedding layer using the `PatchEmbedding` class.\n",
    "5. Create a series of Transformer Encoder Blocks by passing a list of `TransformerEncoderBlocks` to `torch.nn.Sequential()`.\n",
    "6. Create a classifier head using `nn.LayerNorm()` and `nn.Linear()` and passing them through `nn.Sequential()`\n",
    "7. Create a `forward()` method that accepts an input.\n",
    "8. Get patch and position embeddings from the `PatchEmbeddings` layer.\n",
    "9. Pass the patch and position embedding through the dropout layer created in step 3.\n",
    "10. Pass the patch and position embedding from step 9 through the stack of Transformer Encoder layers.\n",
    "11. Pass index 0 of the output of the stack of Transformer Encoder layers from previous step through the classifier head created.\n",
    "\n",
    "And we are done with the full Vision Transformer model."
   ]
  },
  {
   "cell_type": "code",
   "execution_count": 8,
   "id": "cbf76a6d-7f29-42b2-8c59-2c55be18535a",
   "metadata": {
    "execution": {
     "iopub.execute_input": "2025-02-09T22:46:30.166771Z",
     "iopub.status.busy": "2025-02-09T22:46:30.166343Z",
     "iopub.status.idle": "2025-02-09T22:46:30.171985Z",
     "shell.execute_reply": "2025-02-09T22:46:30.171478Z",
     "shell.execute_reply.started": "2025-02-09T22:46:30.166751Z"
    }
   },
   "outputs": [],
   "source": [
    "class ViT(nn.Module):\n",
    "    \"\"\"Creates a vision transformer model\"\"\"\n",
    "    def __init__(self,\n",
    "                 img_size: int = 64,                # Training resolution from ViT paper\n",
    "                 in_channels: int = 3,              # Number of color channels in the input image\n",
    "                 patch_size: int = 4,               # Patch size\n",
    "                 num_transformer_layers: int = 12,  # Layers from ViT paper for ViT-Base\n",
    "                 embedding_dim: int = 256,          # Hidden size D from the paper for ViT-Base\n",
    "                 mlp_size: int = 1024,              # MLP size from the paper for ViT-Base\n",
    "                 num_heads: int = 8,                # Heads from the paper for ViT-Base\n",
    "                 attn_dropout: float = 0,           # Dropout for attention projection\n",
    "                 mlp_dropout: float = 0.1,          # Dropout for dense/MLP layers\n",
    "                 embedding_dropout: float = 0.1,    # Dropout for patch and position embeddings\n",
    "                 num_classes: int = 200):           # Default for ImageNet, can be customized\n",
    "        super(ViT, self).__init__()\n",
    "        \n",
    "        # Check if image size is completely divisible by patch size\n",
    "        assert img_size % patch_size == 0, f\"Image size should be a multiple of patch size. Image size {img_size} and patch size {patch_size}\"\n",
    "\n",
    "        # Creating a dropout for patch embeddings\n",
    "        self.embedding_dropout = nn.Dropout(p=embedding_dropout)\n",
    "\n",
    "        # Creating a patch embeddings layer\n",
    "        self.patch_embed_layer = PatchEmbeddings(img_size=img_size,\n",
    "                                                 in_channels=in_channels,\n",
    "                                                 patch_size=patch_size,\n",
    "                                                 embedding_dim=embedding_dim)\n",
    "\n",
    "        # Creating a transformer encoder blocks\n",
    "        self.tfm_enc_blocks = nn.Sequential(\n",
    "            *[\n",
    "                TransformerEncoderBlock(embedding_dim=embedding_dim,\n",
    "                                        num_heads=num_heads,\n",
    "                                        mlp_size=mlp_size,\n",
    "                                        mlp_dropout=mlp_dropout,\n",
    "                                        attn_dropout=attn_dropout)\n",
    "                for _ in range(num_transformer_layers)\n",
    "            ]\n",
    "        )\n",
    "\n",
    "        # Creating the classifier head\n",
    "        self.fcs = nn.Sequential(\n",
    "            nn.LayerNorm(normalized_shape=embedding_dim),\n",
    "            nn.Linear(in_features=embedding_dim, out_features=num_classes)\n",
    "        )\n",
    "\n",
    "    def forward(self, X: torch.Tensor):\n",
    "        # Creating patch embeddings\n",
    "        X = self.patch_embed_layer(X)\n",
    "\n",
    "        # Passing it through embedding dropout\n",
    "        X = self.embedding_dropout(X)\n",
    "\n",
    "        # Passing it through transformer encoder blocks\n",
    "        X = self.tfm_enc_blocks(X)\n",
    "\n",
    "        # Passing the 0 indexed logits through classifier\n",
    "        X = self.fcs(X[:, 0])\n",
    "        return X"
   ]
  },
  {
   "cell_type": "code",
   "execution_count": 51,
   "id": "829b7fe0-5421-4eba-a390-d5954e7c66ec",
   "metadata": {
    "execution": {
     "iopub.execute_input": "2025-02-09T20:48:18.683776Z",
     "iopub.status.busy": "2025-02-09T20:48:18.683544Z",
     "iopub.status.idle": "2025-02-09T20:48:23.260141Z",
     "shell.execute_reply": "2025-02-09T20:48:23.259567Z",
     "shell.execute_reply.started": "2025-02-09T20:48:18.683772Z"
    }
   },
   "outputs": [
    {
     "name": "stdout",
     "output_type": "stream",
     "text": [
      "Shape of the input of ViT model: torch.Size([64, 3, 64, 64])\n",
      "Shape of the final output of ViT model: torch.Size([64, 200])\n"
     ]
    }
   ],
   "source": [
    "# Testing out the ViT model on one random batch\n",
    "\n",
    "model = ViT(num_classes=len(class_to_idx))\n",
    "random_image_tensor = torch.randn(64, 3, 64, 64)\n",
    "vit_out = model(random_image_tensor)\n",
    "print(f\"Shape of the input of ViT model: {random_image_tensor.shape}\")\n",
    "print(f\"Shape of the final output of ViT model: {vit_out.shape}\")"
   ]
  },
  {
   "cell_type": "code",
   "execution_count": 52,
   "id": "17f34cfc-1eec-42b7-8f37-09c4acebdb85",
   "metadata": {
    "execution": {
     "iopub.execute_input": "2025-02-09T20:48:23.261363Z",
     "iopub.status.busy": "2025-02-09T20:48:23.261184Z",
     "iopub.status.idle": "2025-02-09T20:48:23.310576Z",
     "shell.execute_reply": "2025-02-09T20:48:23.310060Z",
     "shell.execute_reply.started": "2025-02-09T20:48:23.261347Z"
    }
   },
   "outputs": [
    {
     "data": {
      "text/plain": [
       "==================================================================================================================================\n",
       "Layer (type (var_name))                            Input Shape          Output Shape         Param #              Trainable\n",
       "==================================================================================================================================\n",
       "ViT (ViT)                                          [64, 3, 64, 64]      [64, 200]            --                   True\n",
       "├─PatchEmbeddings (patch_embed_layer)              [64, 3, 64, 64]      [64, 257, 256]       66,048               True\n",
       "│    └─Conv2d (patcher)                            [64, 3, 64, 64]      [64, 256, 16, 16]    12,544               True\n",
       "│    └─Flatten (flatten)                           [64, 256, 16, 16]    [64, 256, 256]       --                   --\n",
       "├─Dropout (embedding_dropout)                      [64, 257, 256]       [64, 257, 256]       --                   --\n",
       "├─Sequential (tfm_enc_blocks)                      [64, 257, 256]       [64, 257, 256]       --                   True\n",
       "│    └─TransformerEncoderBlock (0)                 [64, 257, 256]       [64, 257, 256]       --                   True\n",
       "│    │    └─MultiHeadSelfAttentionBlock (msa)      [64, 257, 256]       [64, 257, 256]       263,680              True\n",
       "│    │    └─MLPLayer (mlp)                         [64, 257, 256]       [64, 257, 256]       526,080              True\n",
       "│    └─TransformerEncoderBlock (1)                 [64, 257, 256]       [64, 257, 256]       --                   True\n",
       "│    │    └─MultiHeadSelfAttentionBlock (msa)      [64, 257, 256]       [64, 257, 256]       263,680              True\n",
       "│    │    └─MLPLayer (mlp)                         [64, 257, 256]       [64, 257, 256]       526,080              True\n",
       "│    └─TransformerEncoderBlock (2)                 [64, 257, 256]       [64, 257, 256]       --                   True\n",
       "│    │    └─MultiHeadSelfAttentionBlock (msa)      [64, 257, 256]       [64, 257, 256]       263,680              True\n",
       "│    │    └─MLPLayer (mlp)                         [64, 257, 256]       [64, 257, 256]       526,080              True\n",
       "│    └─TransformerEncoderBlock (3)                 [64, 257, 256]       [64, 257, 256]       --                   True\n",
       "│    │    └─MultiHeadSelfAttentionBlock (msa)      [64, 257, 256]       [64, 257, 256]       263,680              True\n",
       "│    │    └─MLPLayer (mlp)                         [64, 257, 256]       [64, 257, 256]       526,080              True\n",
       "│    └─TransformerEncoderBlock (4)                 [64, 257, 256]       [64, 257, 256]       --                   True\n",
       "│    │    └─MultiHeadSelfAttentionBlock (msa)      [64, 257, 256]       [64, 257, 256]       263,680              True\n",
       "│    │    └─MLPLayer (mlp)                         [64, 257, 256]       [64, 257, 256]       526,080              True\n",
       "│    └─TransformerEncoderBlock (5)                 [64, 257, 256]       [64, 257, 256]       --                   True\n",
       "│    │    └─MultiHeadSelfAttentionBlock (msa)      [64, 257, 256]       [64, 257, 256]       263,680              True\n",
       "│    │    └─MLPLayer (mlp)                         [64, 257, 256]       [64, 257, 256]       526,080              True\n",
       "│    └─TransformerEncoderBlock (6)                 [64, 257, 256]       [64, 257, 256]       --                   True\n",
       "│    │    └─MultiHeadSelfAttentionBlock (msa)      [64, 257, 256]       [64, 257, 256]       263,680              True\n",
       "│    │    └─MLPLayer (mlp)                         [64, 257, 256]       [64, 257, 256]       526,080              True\n",
       "│    └─TransformerEncoderBlock (7)                 [64, 257, 256]       [64, 257, 256]       --                   True\n",
       "│    │    └─MultiHeadSelfAttentionBlock (msa)      [64, 257, 256]       [64, 257, 256]       263,680              True\n",
       "│    │    └─MLPLayer (mlp)                         [64, 257, 256]       [64, 257, 256]       526,080              True\n",
       "│    └─TransformerEncoderBlock (8)                 [64, 257, 256]       [64, 257, 256]       --                   True\n",
       "│    │    └─MultiHeadSelfAttentionBlock (msa)      [64, 257, 256]       [64, 257, 256]       263,680              True\n",
       "│    │    └─MLPLayer (mlp)                         [64, 257, 256]       [64, 257, 256]       526,080              True\n",
       "│    └─TransformerEncoderBlock (9)                 [64, 257, 256]       [64, 257, 256]       --                   True\n",
       "│    │    └─MultiHeadSelfAttentionBlock (msa)      [64, 257, 256]       [64, 257, 256]       263,680              True\n",
       "│    │    └─MLPLayer (mlp)                         [64, 257, 256]       [64, 257, 256]       526,080              True\n",
       "│    └─TransformerEncoderBlock (10)                [64, 257, 256]       [64, 257, 256]       --                   True\n",
       "│    │    └─MultiHeadSelfAttentionBlock (msa)      [64, 257, 256]       [64, 257, 256]       263,680              True\n",
       "│    │    └─MLPLayer (mlp)                         [64, 257, 256]       [64, 257, 256]       526,080              True\n",
       "│    └─TransformerEncoderBlock (11)                [64, 257, 256]       [64, 257, 256]       --                   True\n",
       "│    │    └─MultiHeadSelfAttentionBlock (msa)      [64, 257, 256]       [64, 257, 256]       263,680              True\n",
       "│    │    └─MLPLayer (mlp)                         [64, 257, 256]       [64, 257, 256]       526,080              True\n",
       "├─Sequential (fcs)                                 [64, 256]            [64, 200]            --                   True\n",
       "│    └─LayerNorm (0)                               [64, 256]            [64, 256]            512                  True\n",
       "│    └─Linear (1)                                  [64, 256]            [64, 200]            51,400               True\n",
       "==================================================================================================================================\n",
       "Total params: 9,607,624\n",
       "Trainable params: 9,607,624\n",
       "Non-trainable params: 0\n",
       "Total mult-adds (Units.MEGABYTES): 613.27\n",
       "==================================================================================================================================\n",
       "Input size (MB): 3.15\n",
       "Forward/backward pass size (MB): 2863.37\n",
       "Params size (MB): 25.53\n",
       "Estimated Total Size (MB): 2892.05\n",
       "=================================================================================================================================="
      ]
     },
     "execution_count": 52,
     "metadata": {},
     "output_type": "execute_result"
    }
   ],
   "source": [
    "# Checking size of our model using torchinfo\n",
    "\n",
    "summary(model=model,\n",
    "        input_size=(64, 3, 64, 64),\n",
    "        col_names=[\"input_size\", \"output_size\", \"num_params\", \"trainable\"],\n",
    "        col_width=20,\n",
    "        row_settings=[\"var_names\"])"
   ]
  },
  {
   "cell_type": "markdown",
   "id": "9a243867-7c10-4f7f-a56e-0de68b6704e8",
   "metadata": {},
   "source": [
    "Now that's a massive model with over 85 million trainable parameters. Training the model will be a massive task. Due to the limited hardware, we will reduce the number of transformer layers if it takes too long to train the model."
   ]
  },
  {
   "cell_type": "markdown",
   "id": "05a9d2ae-f90c-4332-ba4c-c8b20e79bce7",
   "metadata": {},
   "source": [
    "Finally we have replicated all the core layers of the Vision Transformer model and passed a random image through the model. The model outputs a tensor of length 200 for each image in the batch. Each element of the tensor correspond to the probability of the image belonging to that class. We can extract the class index from this tensor using `torch.argmax()` function and then get the name of the class using `index_to_class` dictionary."
   ]
  },
  {
   "cell_type": "markdown",
   "id": "b2aa02d7-9db6-4427-a417-efc5203451c1",
   "metadata": {},
   "source": [
    "## 3. Training the model\n",
    "\n",
    "Now that we have succesfully recreated the ViT model, we are all set to train it on our `tiny-imagenet-200` dataset. We have already created the `train_dataloader` and the `test_dataloader`. Now we just need to set-up the training and testing loops. We will modularize this part as well and create separate, reusable functions for training loop and testing loop. We will also leverage GPUs to accelerate training of the model. We will also use `torch.amp.GradScaler()` to speed up training process."
   ]
  },
  {
   "cell_type": "code",
   "execution_count": 10,
   "id": "3b759542-1df9-4db4-aa4e-56bd1a5cdc62",
   "metadata": {
    "execution": {
     "iopub.execute_input": "2025-02-09T22:46:45.363543Z",
     "iopub.status.busy": "2025-02-09T22:46:45.362994Z",
     "iopub.status.idle": "2025-02-09T22:46:45.518656Z",
     "shell.execute_reply": "2025-02-09T22:46:45.518137Z",
     "shell.execute_reply.started": "2025-02-09T22:46:45.363520Z"
    }
   },
   "outputs": [
    {
     "name": "stdout",
     "output_type": "stream",
     "text": [
      "Training on device: cuda\n"
     ]
    }
   ],
   "source": [
    "# Setting up device agnostic code\n",
    "device = torch.device(\"cuda\" if torch.cuda.is_available() else \"cpu\")\n",
    "print(f\"Training on device: {device.type}\")"
   ]
  },
  {
   "cell_type": "code",
   "execution_count": null,
   "id": "d7c16137-650f-445b-94e1-dc88268e7e72",
   "metadata": {
    "execution": {
     "iopub.execute_input": "2025-02-09T20:48:30.704370Z",
     "iopub.status.busy": "2025-02-09T20:48:30.704134Z",
     "iopub.status.idle": "2025-02-09T20:48:30.710081Z",
     "shell.execute_reply": "2025-02-09T20:48:30.709511Z",
     "shell.execute_reply.started": "2025-02-09T20:48:30.704352Z"
    }
   },
   "outputs": [],
   "source": [
    "def train_step(model: torch.nn.Module,\n",
    "               dataloader: torch.utils.data.DataLoader,\n",
    "               loss_fn: torch.nn.Module,\n",
    "               optimizer: torch.optim.Optimizer,\n",
    "               scaler: torch.cuda.amp.GradScaler,\n",
    "               device: torch.device = device):\n",
    "    # Putting the model in training mode\n",
    "    model.train()\n",
    "\n",
    "    # Creating metrics that will be tracked throughout the step\n",
    "    train_loss, train_acc, total_samples = 0, 0, 0\n",
    "\n",
    "    for batch, (X, y) in enumerate(tqdm(dataloader, leave=False, desc=\"Training\")):\n",
    "        # Sending X and y to the target device\n",
    "        X, y = X.to(device), y.to(device)\n",
    "\n",
    "        # Making prediction and calculating loss\n",
    "        with torch.amp.autocast(\"cuda\", enabled=device.type == \"cuda\"):\n",
    "            preds = model(X)\n",
    "            loss = loss_fn(preds, y)\n",
    "        \n",
    "        train_loss += loss.item()\n",
    "\n",
    "        # Optimizer zero grad\n",
    "        optimizer.zero_grad()\n",
    "\n",
    "        # Loss backward and optimizer step\n",
    "        if scaler is not None:\n",
    "            scaler.scale(loss).backward()\n",
    "            scaler.step(optimizer)\n",
    "            scaler.update()\n",
    "        else:\n",
    "            loss.backward()\n",
    "            optimizer.step()\n",
    "\n",
    "        # Calculating accuracy\n",
    "        pred_classes = torch.argmax(preds, dim=1)\n",
    "        train_acc += (pred_classes == y).sum().item()\n",
    "        total_samples += y.size(0)\n",
    "\n",
    "    # Adjusting training loss and accuracy per batch\n",
    "    train_loss /= total_samples\n",
    "    train_acc /= total_samples\n",
    "    return train_loss, train_acc"
   ]
  },
  {
   "cell_type": "code",
   "execution_count": null,
   "id": "abc9d83a-548b-491e-b684-5d1bcbdbb7bb",
   "metadata": {
    "execution": {
     "iopub.execute_input": "2025-02-09T20:48:31.898488Z",
     "iopub.status.busy": "2025-02-09T20:48:31.897737Z",
     "iopub.status.idle": "2025-02-09T20:48:31.902806Z",
     "shell.execute_reply": "2025-02-09T20:48:31.902320Z",
     "shell.execute_reply.started": "2025-02-09T20:48:31.898464Z"
    }
   },
   "outputs": [],
   "source": [
    "def test_step(model: torch.nn.Module,\n",
    "              dataloader: torch.utils.data.DataLoader,\n",
    "              loss_fn: torch.nn.Module,\n",
    "              device: torch.device = device):\n",
    "    # Putting the model in evaluation mode\n",
    "    model.eval()\n",
    "\n",
    "    # Creating metrics that will be tracked throughout the step\n",
    "    test_loss, test_acc, total_samples = 0, 0, 0\n",
    "\n",
    "    with torch.inference_mode():\n",
    "        with torch.amp.autocast(\"cuda\", enabled=device.type == \"cuda\"):\n",
    "            for batch, (X, y) in enumerate(tqdm(dataloader, leave=False, desc=\"Evaluating\")):\n",
    "                # Sending X and y to target device\n",
    "                X, y = X.to(device), y.to(device)\n",
    "\n",
    "                # Making predictions\n",
    "                test_pred_logits = model(X)\n",
    "\n",
    "                # Calculating loss\n",
    "                loss = loss_fn(test_pred_logits, y)\n",
    "                test_loss += loss.item()\n",
    "\n",
    "                # Calculating test accuracy\n",
    "                test_pred_labels = test_pred_logits.argmax(dim=1)\n",
    "                test_acc += (test_pred_labels == y).sum().item()\n",
    "                total_samples += y.size(0)\n",
    "\n",
    "            # Adjusting training loss and accuracy per batch\n",
    "            test_loss /= total_samples\n",
    "            test_acc /= total_samples\n",
    "            return test_loss, test_acc"
   ]
  },
  {
   "cell_type": "code",
   "execution_count": 56,
   "id": "b31642f7-ece1-4183-a24d-4b63fe55ab9b",
   "metadata": {
    "execution": {
     "iopub.execute_input": "2025-02-09T20:48:32.915187Z",
     "iopub.status.busy": "2025-02-09T20:48:32.914512Z",
     "iopub.status.idle": "2025-02-09T20:48:32.921963Z",
     "shell.execute_reply": "2025-02-09T20:48:32.921414Z",
     "shell.execute_reply.started": "2025-02-09T20:48:32.915167Z"
    }
   },
   "outputs": [],
   "source": [
    "def train_model(model: torch.nn.Module,\n",
    "                model_save_path: str,\n",
    "                train_dataloader: torch.utils.data.DataLoader,\n",
    "                test_dataloader: torch.utils.data.DataLoader,\n",
    "                optimizer: torch.optim.Optimizer,\n",
    "                loss_fn: torch.nn.Module,\n",
    "                scheduler: torch.optim.Optimizer,\n",
    "                epochs: int = 5,\n",
    "                device: torch.device = device):\n",
    "    # Tracking loss and accuracy for both training and testing loops\n",
    "    results = {\n",
    "        \"train_loss\": [0],\n",
    "        \"train_acc\": [0],\n",
    "        \"test_loss\": [0],\n",
    "        \"test_acc\": [0]\n",
    "    }\n",
    "    \n",
    "    best_acc = 0\n",
    "    pbar = trange(0, epochs, leave=False, desc=\"Epoch\")\n",
    "    scaler = torch.cuda.amp.GradScaler() if device.type == \"cuda\" else None\n",
    "\n",
    "    for epoch in pbar:\n",
    "        pbar.set_postfix_str('Accuracy: Train %.2f%%, Val %.2f%%' % (results[\"train_acc\"][-1] * 100, results[\"test_acc\"][-1] * 100))\n",
    "        \n",
    "        train_loss, train_acc = train_step(model=model,\n",
    "                                           dataloader=train_dataloader,\n",
    "                                           loss_fn=loss_fn,\n",
    "                                           optimizer=optimizer,\n",
    "                                           scaler=scaler,\n",
    "                                           device=device)\n",
    "\n",
    "        test_loss, test_acc = test_step(model=model,\n",
    "                                         dataloader=test_dataloader,\n",
    "                                         loss_fn=loss_fn,\n",
    "                                         device=device)\n",
    "\n",
    "        if scheduler:\n",
    "            scheduler.step()\n",
    "        \n",
    "        if model_save_path not in [None, \"\"] and test_acc > best_acc:\n",
    "            torch.save(model.state_dict(), model_save_path)\n",
    "        \n",
    "        results[\"train_loss\"].append(train_loss)\n",
    "        results[\"train_acc\"].append(train_acc)\n",
    "        results[\"test_loss\"].append(test_loss)\n",
    "        results[\"test_acc\"].append(test_acc)\n",
    "\n",
    "    return results"
   ]
  },
  {
   "cell_type": "code",
   "execution_count": 62,
   "id": "96ac67be-ad37-44ec-8524-3ff90e4139f9",
   "metadata": {
    "execution": {
     "iopub.execute_input": "2025-02-09T22:32:22.316906Z",
     "iopub.status.busy": "2025-02-09T22:32:22.316652Z",
     "iopub.status.idle": "2025-02-09T22:32:22.322969Z",
     "shell.execute_reply": "2025-02-09T22:32:22.322614Z",
     "shell.execute_reply.started": "2025-02-09T22:32:22.316889Z"
    }
   },
   "outputs": [],
   "source": [
    "def plot_loss_curves(results):\n",
    "    \"\"\"Plots training curves of a results dictionary.\n",
    "\n",
    "    Args:\n",
    "        results (dict): dictionary containing list of values, e.g.\n",
    "            {\"train_loss\": [...],\n",
    "             \"train_acc\": [...],\n",
    "             \"test_loss\": [...],\n",
    "             \"test_acc\": [...]}\n",
    "    \"\"\"\n",
    "    loss = results[\"train_loss\"][1:]\n",
    "    test_loss = results[\"test_loss\"][1:]\n",
    "\n",
    "    accuracy = results[\"train_acc\"][1:]\n",
    "    test_accuracy = results[\"test_acc\"][1:]\n",
    "\n",
    "    epochs = range(len(results[\"train_loss\"]) - 1)\n",
    "\n",
    "    plt.figure(figsize=(15, 7))\n",
    "\n",
    "    # Plot loss\n",
    "    plt.subplot(1, 2, 1)\n",
    "    plt.plot(epochs, loss, label=\"train_loss\")\n",
    "    plt.plot(epochs, test_loss, label=\"validation_loss\")\n",
    "    plt.title(\"Loss\")\n",
    "    plt.xlabel(\"Epochs\")\n",
    "    plt.legend()\n",
    "\n",
    "    # Plot accuracy\n",
    "    plt.subplot(1, 2, 2)\n",
    "    plt.plot(epochs, accuracy, label=\"train_accuracy\")\n",
    "    plt.plot(epochs, test_accuracy, label=\"validation_accuracy\")\n",
    "    plt.title(\"Accuracy\")\n",
    "    plt.xlabel(\"Epochs\")\n",
    "    plt.legend()"
   ]
  },
  {
   "cell_type": "code",
   "execution_count": 58,
   "id": "e3701f56-3aea-458a-bfca-bbad84e60636",
   "metadata": {
    "execution": {
     "iopub.execute_input": "2025-02-09T20:48:35.057111Z",
     "iopub.status.busy": "2025-02-09T20:48:35.056448Z",
     "iopub.status.idle": "2025-02-09T20:48:35.069265Z",
     "shell.execute_reply": "2025-02-09T20:48:35.068713Z",
     "shell.execute_reply.started": "2025-02-09T20:48:35.057044Z"
    }
   },
   "outputs": [],
   "source": [
    "# Creating a baseline model\n",
    "baseline_model = ViT(num_transformer_layers=1).to(device)\n",
    "\n",
    "# Model optimizer and scheduler\n",
    "baseline_optimizer = torch.optim.AdamW(params=baseline_model.parameters(), lr=5e-4)\n",
    "baseline_lr_scheduler = torch.optim.lr_scheduler.CosineAnnealingLR(baseline_optimizer,\n",
    "                                                                   T_max=50,\n",
    "                                                                   eta_min=1e-5)\n",
    "\n",
    "# Loss function\n",
    "baseline_loss_fn = nn.CrossEntropyLoss(label_smoothing=0.1)"
   ]
  },
  {
   "cell_type": "code",
   "execution_count": 59,
   "id": "26296d29-f8c9-463a-8662-f618ea042c62",
   "metadata": {
    "execution": {
     "iopub.execute_input": "2025-02-09T20:48:36.463042Z",
     "iopub.status.busy": "2025-02-09T20:48:36.462510Z",
     "iopub.status.idle": "2025-02-09T20:48:38.631205Z",
     "shell.execute_reply": "2025-02-09T20:48:38.630300Z",
     "shell.execute_reply.started": "2025-02-09T20:48:36.463023Z"
    }
   },
   "outputs": [
    {
     "name": "stdout",
     "output_type": "stream",
     "text": [
      "Step 0 | Loss=5.1914, Acc=0.0000\n",
      "Step 10 | Loss=2.8476, Acc=0.1250\n",
      "Step 20 | Loss=2.6166, Acc=0.2500\n",
      "Step 30 | Loss=2.2712, Acc=0.5000\n",
      "Step 40 | Loss=1.5143, Acc=0.8750\n",
      "Step 50 | Loss=1.0510, Acc=1.0000\n",
      "Step 60 | Loss=0.9092, Acc=1.0000\n",
      "Step 70 | Loss=0.8868, Acc=1.0000\n",
      "Step 80 | Loss=0.8735, Acc=1.0000\n",
      "Step 90 | Loss=0.8656, Acc=1.0000\n"
     ]
    }
   ],
   "source": [
    "# Overfitting on a small subset\n",
    "\n",
    "X, y = next(iter(train_dataloader))\n",
    "X, y = X[:8].to(device), y[:8].to(device)\n",
    "\n",
    "model.train()\n",
    "\n",
    "for step in range(100):\n",
    "    baseline_optimizer.zero_grad()\n",
    "    preds = baseline_model(X)\n",
    "    loss = baseline_loss_fn(preds, y)\n",
    "    loss.backward()\n",
    "    baseline_optimizer.step()\n",
    "\n",
    "    if step % 10 == 0:\n",
    "        acc = (preds.argmax(dim=1) == y).float().mean()\n",
    "        print(f\"Step {step} | Loss={loss.item():.4f}, Acc={acc.item():.4f}\")"
   ]
  },
  {
   "cell_type": "code",
   "execution_count": 60,
   "id": "97ae59dc-ff64-4ecc-9797-adc6adbc2c58",
   "metadata": {
    "execution": {
     "iopub.execute_input": "2025-02-09T20:48:41.377942Z",
     "iopub.status.busy": "2025-02-09T20:48:41.377689Z",
     "iopub.status.idle": "2025-02-09T22:10:11.891423Z",
     "shell.execute_reply": "2025-02-09T22:10:11.888777Z",
     "shell.execute_reply.started": "2025-02-09T20:48:41.377922Z"
    }
   },
   "outputs": [
    {
     "data": {
      "application/vnd.jupyter.widget-view+json": {
       "model_id": "2f068c08f692482285a441ab57411294",
       "version_major": 2,
       "version_minor": 0
      },
      "text/plain": [
       "Epoch:   0%|          | 0/50 [00:00<?, ?it/s]"
      ]
     },
     "metadata": {},
     "output_type": "display_data"
    },
    {
     "data": {
      "application/vnd.jupyter.widget-view+json": {
       "model_id": "ac956faa8604440484c1dfc236969b05",
       "version_major": 2,
       "version_minor": 0
      },
      "text/plain": [
       "Training:   0%|          | 0/1563 [00:00<?, ?it/s]"
      ]
     },
     "metadata": {},
     "output_type": "display_data"
    },
    {
     "data": {
      "application/vnd.jupyter.widget-view+json": {
       "model_id": "fc4faedc4677426ca80a930e95d79215",
       "version_major": 2,
       "version_minor": 0
      },
      "text/plain": [
       "Evaluating:   0%|          | 0/157 [00:00<?, ?it/s]"
      ]
     },
     "metadata": {},
     "output_type": "display_data"
    },
    {
     "data": {
      "application/vnd.jupyter.widget-view+json": {
       "model_id": "7d414f47ef944d259b3e6e32c0252887",
       "version_major": 2,
       "version_minor": 0
      },
      "text/plain": [
       "Training:   0%|          | 0/1563 [00:00<?, ?it/s]"
      ]
     },
     "metadata": {},
     "output_type": "display_data"
    },
    {
     "data": {
      "application/vnd.jupyter.widget-view+json": {
       "model_id": "673770ce6be04ead96a179c756771ffc",
       "version_major": 2,
       "version_minor": 0
      },
      "text/plain": [
       "Evaluating:   0%|          | 0/157 [00:00<?, ?it/s]"
      ]
     },
     "metadata": {},
     "output_type": "display_data"
    },
    {
     "data": {
      "application/vnd.jupyter.widget-view+json": {
       "model_id": "bcb5ceb64851498eaff80eb468a6b604",
       "version_major": 2,
       "version_minor": 0
      },
      "text/plain": [
       "Training:   0%|          | 0/1563 [00:00<?, ?it/s]"
      ]
     },
     "metadata": {},
     "output_type": "display_data"
    },
    {
     "data": {
      "application/vnd.jupyter.widget-view+json": {
       "model_id": "cba2935cd07e4fa58153b6719146e737",
       "version_major": 2,
       "version_minor": 0
      },
      "text/plain": [
       "Evaluating:   0%|          | 0/157 [00:00<?, ?it/s]"
      ]
     },
     "metadata": {},
     "output_type": "display_data"
    },
    {
     "data": {
      "application/vnd.jupyter.widget-view+json": {
       "model_id": "40280b3b0dc8432d91b375d69134775d",
       "version_major": 2,
       "version_minor": 0
      },
      "text/plain": [
       "Training:   0%|          | 0/1563 [00:00<?, ?it/s]"
      ]
     },
     "metadata": {},
     "output_type": "display_data"
    },
    {
     "data": {
      "application/vnd.jupyter.widget-view+json": {
       "model_id": "21e06aefa9694581bd0546c17c6fa8c4",
       "version_major": 2,
       "version_minor": 0
      },
      "text/plain": [
       "Evaluating:   0%|          | 0/157 [00:00<?, ?it/s]"
      ]
     },
     "metadata": {},
     "output_type": "display_data"
    },
    {
     "data": {
      "application/vnd.jupyter.widget-view+json": {
       "model_id": "f5a28ee423534a1f97d979ad16f1942a",
       "version_major": 2,
       "version_minor": 0
      },
      "text/plain": [
       "Training:   0%|          | 0/1563 [00:00<?, ?it/s]"
      ]
     },
     "metadata": {},
     "output_type": "display_data"
    },
    {
     "data": {
      "application/vnd.jupyter.widget-view+json": {
       "model_id": "fa09347d42994e5d864237bf0353a1ae",
       "version_major": 2,
       "version_minor": 0
      },
      "text/plain": [
       "Evaluating:   0%|          | 0/157 [00:00<?, ?it/s]"
      ]
     },
     "metadata": {},
     "output_type": "display_data"
    },
    {
     "data": {
      "application/vnd.jupyter.widget-view+json": {
       "model_id": "a8d36dcbbaad41f59c7b846cfee5875b",
       "version_major": 2,
       "version_minor": 0
      },
      "text/plain": [
       "Training:   0%|          | 0/1563 [00:00<?, ?it/s]"
      ]
     },
     "metadata": {},
     "output_type": "display_data"
    },
    {
     "data": {
      "application/vnd.jupyter.widget-view+json": {
       "model_id": "84bcb87ab5324d958f83551f3a64eeba",
       "version_major": 2,
       "version_minor": 0
      },
      "text/plain": [
       "Evaluating:   0%|          | 0/157 [00:00<?, ?it/s]"
      ]
     },
     "metadata": {},
     "output_type": "display_data"
    },
    {
     "data": {
      "application/vnd.jupyter.widget-view+json": {
       "model_id": "f5eff75a5fa04fde88a433fc7ccef974",
       "version_major": 2,
       "version_minor": 0
      },
      "text/plain": [
       "Training:   0%|          | 0/1563 [00:00<?, ?it/s]"
      ]
     },
     "metadata": {},
     "output_type": "display_data"
    },
    {
     "data": {
      "application/vnd.jupyter.widget-view+json": {
       "model_id": "7f7ea671cdbc47588ddc364365ebeea1",
       "version_major": 2,
       "version_minor": 0
      },
      "text/plain": [
       "Evaluating:   0%|          | 0/157 [00:00<?, ?it/s]"
      ]
     },
     "metadata": {},
     "output_type": "display_data"
    },
    {
     "data": {
      "application/vnd.jupyter.widget-view+json": {
       "model_id": "2c252953642a41509eaa6fb8af0dde97",
       "version_major": 2,
       "version_minor": 0
      },
      "text/plain": [
       "Training:   0%|          | 0/1563 [00:00<?, ?it/s]"
      ]
     },
     "metadata": {},
     "output_type": "display_data"
    },
    {
     "data": {
      "application/vnd.jupyter.widget-view+json": {
       "model_id": "fecf232b557d4a218febecda95ef0f6f",
       "version_major": 2,
       "version_minor": 0
      },
      "text/plain": [
       "Evaluating:   0%|          | 0/157 [00:00<?, ?it/s]"
      ]
     },
     "metadata": {},
     "output_type": "display_data"
    },
    {
     "data": {
      "application/vnd.jupyter.widget-view+json": {
       "model_id": "27f81af1864546f9b4590cc49e4722b4",
       "version_major": 2,
       "version_minor": 0
      },
      "text/plain": [
       "Training:   0%|          | 0/1563 [00:00<?, ?it/s]"
      ]
     },
     "metadata": {},
     "output_type": "display_data"
    },
    {
     "data": {
      "application/vnd.jupyter.widget-view+json": {
       "model_id": "fbe8bb5cf44f48efb78a370a07a1a91c",
       "version_major": 2,
       "version_minor": 0
      },
      "text/plain": [
       "Evaluating:   0%|          | 0/157 [00:00<?, ?it/s]"
      ]
     },
     "metadata": {},
     "output_type": "display_data"
    },
    {
     "data": {
      "application/vnd.jupyter.widget-view+json": {
       "model_id": "0cd66e4c0b8e4b47a437acf3919225e1",
       "version_major": 2,
       "version_minor": 0
      },
      "text/plain": [
       "Training:   0%|          | 0/1563 [00:00<?, ?it/s]"
      ]
     },
     "metadata": {},
     "output_type": "display_data"
    },
    {
     "data": {
      "application/vnd.jupyter.widget-view+json": {
       "model_id": "265232b9b22241e89f4bd07635bf25d4",
       "version_major": 2,
       "version_minor": 0
      },
      "text/plain": [
       "Evaluating:   0%|          | 0/157 [00:00<?, ?it/s]"
      ]
     },
     "metadata": {},
     "output_type": "display_data"
    },
    {
     "data": {
      "application/vnd.jupyter.widget-view+json": {
       "model_id": "411c0f6f3aa24beeb00d0b4388eadee9",
       "version_major": 2,
       "version_minor": 0
      },
      "text/plain": [
       "Training:   0%|          | 0/1563 [00:00<?, ?it/s]"
      ]
     },
     "metadata": {},
     "output_type": "display_data"
    },
    {
     "data": {
      "application/vnd.jupyter.widget-view+json": {
       "model_id": "46107501557d40a6aa4a9505f30a13a2",
       "version_major": 2,
       "version_minor": 0
      },
      "text/plain": [
       "Evaluating:   0%|          | 0/157 [00:00<?, ?it/s]"
      ]
     },
     "metadata": {},
     "output_type": "display_data"
    },
    {
     "data": {
      "application/vnd.jupyter.widget-view+json": {
       "model_id": "7204f29a648d42cca323ba8df8411bad",
       "version_major": 2,
       "version_minor": 0
      },
      "text/plain": [
       "Training:   0%|          | 0/1563 [00:00<?, ?it/s]"
      ]
     },
     "metadata": {},
     "output_type": "display_data"
    },
    {
     "data": {
      "application/vnd.jupyter.widget-view+json": {
       "model_id": "7ff1eb57469340cf8837f9ceb29c313e",
       "version_major": 2,
       "version_minor": 0
      },
      "text/plain": [
       "Evaluating:   0%|          | 0/157 [00:00<?, ?it/s]"
      ]
     },
     "metadata": {},
     "output_type": "display_data"
    },
    {
     "data": {
      "application/vnd.jupyter.widget-view+json": {
       "model_id": "8bd0de72c3454efca46095ce91518ef5",
       "version_major": 2,
       "version_minor": 0
      },
      "text/plain": [
       "Training:   0%|          | 0/1563 [00:00<?, ?it/s]"
      ]
     },
     "metadata": {},
     "output_type": "display_data"
    },
    {
     "data": {
      "application/vnd.jupyter.widget-view+json": {
       "model_id": "a7e6ea4ca2ff487db01fadd13a55ef99",
       "version_major": 2,
       "version_minor": 0
      },
      "text/plain": [
       "Evaluating:   0%|          | 0/157 [00:00<?, ?it/s]"
      ]
     },
     "metadata": {},
     "output_type": "display_data"
    },
    {
     "data": {
      "application/vnd.jupyter.widget-view+json": {
       "model_id": "bbdd50440092444a92186ed06f3216ce",
       "version_major": 2,
       "version_minor": 0
      },
      "text/plain": [
       "Training:   0%|          | 0/1563 [00:00<?, ?it/s]"
      ]
     },
     "metadata": {},
     "output_type": "display_data"
    },
    {
     "data": {
      "application/vnd.jupyter.widget-view+json": {
       "model_id": "21a5d9abfa79488f818d6b53b83f30b3",
       "version_major": 2,
       "version_minor": 0
      },
      "text/plain": [
       "Evaluating:   0%|          | 0/157 [00:00<?, ?it/s]"
      ]
     },
     "metadata": {},
     "output_type": "display_data"
    },
    {
     "data": {
      "application/vnd.jupyter.widget-view+json": {
       "model_id": "2eed9de4851844ec9e2786bf2407411d",
       "version_major": 2,
       "version_minor": 0
      },
      "text/plain": [
       "Training:   0%|          | 0/1563 [00:00<?, ?it/s]"
      ]
     },
     "metadata": {},
     "output_type": "display_data"
    },
    {
     "data": {
      "application/vnd.jupyter.widget-view+json": {
       "model_id": "569b05c0984b49f5a866c17ae89af089",
       "version_major": 2,
       "version_minor": 0
      },
      "text/plain": [
       "Evaluating:   0%|          | 0/157 [00:00<?, ?it/s]"
      ]
     },
     "metadata": {},
     "output_type": "display_data"
    },
    {
     "data": {
      "application/vnd.jupyter.widget-view+json": {
       "model_id": "583078849f5149ffb63a0d5aca50975c",
       "version_major": 2,
       "version_minor": 0
      },
      "text/plain": [
       "Training:   0%|          | 0/1563 [00:00<?, ?it/s]"
      ]
     },
     "metadata": {},
     "output_type": "display_data"
    },
    {
     "data": {
      "application/vnd.jupyter.widget-view+json": {
       "model_id": "01c0db71c72142cd90b3c9b15e4fed45",
       "version_major": 2,
       "version_minor": 0
      },
      "text/plain": [
       "Evaluating:   0%|          | 0/157 [00:00<?, ?it/s]"
      ]
     },
     "metadata": {},
     "output_type": "display_data"
    },
    {
     "data": {
      "application/vnd.jupyter.widget-view+json": {
       "model_id": "0e4ffe8561444a0ea948dfa619310a4b",
       "version_major": 2,
       "version_minor": 0
      },
      "text/plain": [
       "Training:   0%|          | 0/1563 [00:00<?, ?it/s]"
      ]
     },
     "metadata": {},
     "output_type": "display_data"
    },
    {
     "data": {
      "application/vnd.jupyter.widget-view+json": {
       "model_id": "0d2dbc1adc654022ae2024f259f8f656",
       "version_major": 2,
       "version_minor": 0
      },
      "text/plain": [
       "Evaluating:   0%|          | 0/157 [00:00<?, ?it/s]"
      ]
     },
     "metadata": {},
     "output_type": "display_data"
    },
    {
     "data": {
      "application/vnd.jupyter.widget-view+json": {
       "model_id": "592d38b2f10f4ed8aa0db787093ea778",
       "version_major": 2,
       "version_minor": 0
      },
      "text/plain": [
       "Training:   0%|          | 0/1563 [00:00<?, ?it/s]"
      ]
     },
     "metadata": {},
     "output_type": "display_data"
    },
    {
     "data": {
      "application/vnd.jupyter.widget-view+json": {
       "model_id": "acf089e58627419ba5658d6d533bf4d9",
       "version_major": 2,
       "version_minor": 0
      },
      "text/plain": [
       "Evaluating:   0%|          | 0/157 [00:00<?, ?it/s]"
      ]
     },
     "metadata": {},
     "output_type": "display_data"
    },
    {
     "data": {
      "application/vnd.jupyter.widget-view+json": {
       "model_id": "34b4ddbd3cb347ae9f5fc5ef461378ed",
       "version_major": 2,
       "version_minor": 0
      },
      "text/plain": [
       "Training:   0%|          | 0/1563 [00:00<?, ?it/s]"
      ]
     },
     "metadata": {},
     "output_type": "display_data"
    },
    {
     "data": {
      "application/vnd.jupyter.widget-view+json": {
       "model_id": "38e0c0daeaec467c9014b522f5c1a52e",
       "version_major": 2,
       "version_minor": 0
      },
      "text/plain": [
       "Evaluating:   0%|          | 0/157 [00:00<?, ?it/s]"
      ]
     },
     "metadata": {},
     "output_type": "display_data"
    },
    {
     "data": {
      "application/vnd.jupyter.widget-view+json": {
       "model_id": "3760e0173f924d4ca01f24d9165c0ed4",
       "version_major": 2,
       "version_minor": 0
      },
      "text/plain": [
       "Training:   0%|          | 0/1563 [00:00<?, ?it/s]"
      ]
     },
     "metadata": {},
     "output_type": "display_data"
    },
    {
     "data": {
      "application/vnd.jupyter.widget-view+json": {
       "model_id": "19f554202def406a94ec625a00db18c3",
       "version_major": 2,
       "version_minor": 0
      },
      "text/plain": [
       "Evaluating:   0%|          | 0/157 [00:00<?, ?it/s]"
      ]
     },
     "metadata": {},
     "output_type": "display_data"
    },
    {
     "data": {
      "application/vnd.jupyter.widget-view+json": {
       "model_id": "16451ea128114379b9ae8eb9b8726b82",
       "version_major": 2,
       "version_minor": 0
      },
      "text/plain": [
       "Training:   0%|          | 0/1563 [00:00<?, ?it/s]"
      ]
     },
     "metadata": {},
     "output_type": "display_data"
    },
    {
     "data": {
      "application/vnd.jupyter.widget-view+json": {
       "model_id": "262b46d4174e4b899440fba0fec7872d",
       "version_major": 2,
       "version_minor": 0
      },
      "text/plain": [
       "Evaluating:   0%|          | 0/157 [00:00<?, ?it/s]"
      ]
     },
     "metadata": {},
     "output_type": "display_data"
    },
    {
     "data": {
      "application/vnd.jupyter.widget-view+json": {
       "model_id": "1c5a3d9e3255475b9bb17583c25b168b",
       "version_major": 2,
       "version_minor": 0
      },
      "text/plain": [
       "Training:   0%|          | 0/1563 [00:00<?, ?it/s]"
      ]
     },
     "metadata": {},
     "output_type": "display_data"
    },
    {
     "data": {
      "application/vnd.jupyter.widget-view+json": {
       "model_id": "25f035a94c144860b94be6fafa386c9f",
       "version_major": 2,
       "version_minor": 0
      },
      "text/plain": [
       "Evaluating:   0%|          | 0/157 [00:00<?, ?it/s]"
      ]
     },
     "metadata": {},
     "output_type": "display_data"
    },
    {
     "data": {
      "application/vnd.jupyter.widget-view+json": {
       "model_id": "080064419d244f8c94655ab5b0f2ec09",
       "version_major": 2,
       "version_minor": 0
      },
      "text/plain": [
       "Training:   0%|          | 0/1563 [00:00<?, ?it/s]"
      ]
     },
     "metadata": {},
     "output_type": "display_data"
    },
    {
     "data": {
      "application/vnd.jupyter.widget-view+json": {
       "model_id": "589f61b068f54f98b6de02215132e7f4",
       "version_major": 2,
       "version_minor": 0
      },
      "text/plain": [
       "Evaluating:   0%|          | 0/157 [00:00<?, ?it/s]"
      ]
     },
     "metadata": {},
     "output_type": "display_data"
    },
    {
     "data": {
      "application/vnd.jupyter.widget-view+json": {
       "model_id": "fffe7ebe0f514f76883b7c787ec9015d",
       "version_major": 2,
       "version_minor": 0
      },
      "text/plain": [
       "Training:   0%|          | 0/1563 [00:00<?, ?it/s]"
      ]
     },
     "metadata": {},
     "output_type": "display_data"
    },
    {
     "data": {
      "application/vnd.jupyter.widget-view+json": {
       "model_id": "4e1b3001ea36446abd3275250da88ca4",
       "version_major": 2,
       "version_minor": 0
      },
      "text/plain": [
       "Evaluating:   0%|          | 0/157 [00:00<?, ?it/s]"
      ]
     },
     "metadata": {},
     "output_type": "display_data"
    },
    {
     "data": {
      "application/vnd.jupyter.widget-view+json": {
       "model_id": "86d382f961114aa4afa13382914b0d91",
       "version_major": 2,
       "version_minor": 0
      },
      "text/plain": [
       "Training:   0%|          | 0/1563 [00:00<?, ?it/s]"
      ]
     },
     "metadata": {},
     "output_type": "display_data"
    },
    {
     "data": {
      "application/vnd.jupyter.widget-view+json": {
       "model_id": "36ac12759b8c456da67b27861720a3d2",
       "version_major": 2,
       "version_minor": 0
      },
      "text/plain": [
       "Evaluating:   0%|          | 0/157 [00:00<?, ?it/s]"
      ]
     },
     "metadata": {},
     "output_type": "display_data"
    },
    {
     "data": {
      "application/vnd.jupyter.widget-view+json": {
       "model_id": "f908705224d746c8aaf55a525af6b261",
       "version_major": 2,
       "version_minor": 0
      },
      "text/plain": [
       "Training:   0%|          | 0/1563 [00:00<?, ?it/s]"
      ]
     },
     "metadata": {},
     "output_type": "display_data"
    },
    {
     "data": {
      "application/vnd.jupyter.widget-view+json": {
       "model_id": "de77304fd9a044218d4480ef06589e34",
       "version_major": 2,
       "version_minor": 0
      },
      "text/plain": [
       "Evaluating:   0%|          | 0/157 [00:00<?, ?it/s]"
      ]
     },
     "metadata": {},
     "output_type": "display_data"
    },
    {
     "data": {
      "application/vnd.jupyter.widget-view+json": {
       "model_id": "ce5e1bf73e6a4f92b7f9027691113223",
       "version_major": 2,
       "version_minor": 0
      },
      "text/plain": [
       "Training:   0%|          | 0/1563 [00:00<?, ?it/s]"
      ]
     },
     "metadata": {},
     "output_type": "display_data"
    },
    {
     "data": {
      "application/vnd.jupyter.widget-view+json": {
       "model_id": "bf468405e26845b39cb4acc2aa1af2ff",
       "version_major": 2,
       "version_minor": 0
      },
      "text/plain": [
       "Evaluating:   0%|          | 0/157 [00:00<?, ?it/s]"
      ]
     },
     "metadata": {},
     "output_type": "display_data"
    },
    {
     "data": {
      "application/vnd.jupyter.widget-view+json": {
       "model_id": "66b9be42d76b43d0961310ae5e0a0533",
       "version_major": 2,
       "version_minor": 0
      },
      "text/plain": [
       "Training:   0%|          | 0/1563 [00:00<?, ?it/s]"
      ]
     },
     "metadata": {},
     "output_type": "display_data"
    },
    {
     "data": {
      "application/vnd.jupyter.widget-view+json": {
       "model_id": "74b6c497e6764d67af206ae65418876a",
       "version_major": 2,
       "version_minor": 0
      },
      "text/plain": [
       "Evaluating:   0%|          | 0/157 [00:00<?, ?it/s]"
      ]
     },
     "metadata": {},
     "output_type": "display_data"
    },
    {
     "data": {
      "application/vnd.jupyter.widget-view+json": {
       "model_id": "9f0e548152c34b58acce0d535135cc24",
       "version_major": 2,
       "version_minor": 0
      },
      "text/plain": [
       "Training:   0%|          | 0/1563 [00:00<?, ?it/s]"
      ]
     },
     "metadata": {},
     "output_type": "display_data"
    },
    {
     "data": {
      "application/vnd.jupyter.widget-view+json": {
       "model_id": "7f8a04ec4adb4af0b78a45aa3c5ac9cc",
       "version_major": 2,
       "version_minor": 0
      },
      "text/plain": [
       "Evaluating:   0%|          | 0/157 [00:00<?, ?it/s]"
      ]
     },
     "metadata": {},
     "output_type": "display_data"
    },
    {
     "data": {
      "application/vnd.jupyter.widget-view+json": {
       "model_id": "f574e7b3925a4eca8e1d2d27eb7f5ea0",
       "version_major": 2,
       "version_minor": 0
      },
      "text/plain": [
       "Training:   0%|          | 0/1563 [00:00<?, ?it/s]"
      ]
     },
     "metadata": {},
     "output_type": "display_data"
    },
    {
     "data": {
      "application/vnd.jupyter.widget-view+json": {
       "model_id": "aa76a08972564bb1bec9ba2945bbc9eb",
       "version_major": 2,
       "version_minor": 0
      },
      "text/plain": [
       "Evaluating:   0%|          | 0/157 [00:00<?, ?it/s]"
      ]
     },
     "metadata": {},
     "output_type": "display_data"
    },
    {
     "data": {
      "application/vnd.jupyter.widget-view+json": {
       "model_id": "f27d01cbf9854eebb358488f128725b4",
       "version_major": 2,
       "version_minor": 0
      },
      "text/plain": [
       "Training:   0%|          | 0/1563 [00:00<?, ?it/s]"
      ]
     },
     "metadata": {},
     "output_type": "display_data"
    },
    {
     "data": {
      "application/vnd.jupyter.widget-view+json": {
       "model_id": "7bd18289bd744f619aa16bba4fb9030e",
       "version_major": 2,
       "version_minor": 0
      },
      "text/plain": [
       "Evaluating:   0%|          | 0/157 [00:00<?, ?it/s]"
      ]
     },
     "metadata": {},
     "output_type": "display_data"
    },
    {
     "data": {
      "application/vnd.jupyter.widget-view+json": {
       "model_id": "5559b868c5c24f58902be969bea4cd56",
       "version_major": 2,
       "version_minor": 0
      },
      "text/plain": [
       "Training:   0%|          | 0/1563 [00:00<?, ?it/s]"
      ]
     },
     "metadata": {},
     "output_type": "display_data"
    },
    {
     "data": {
      "application/vnd.jupyter.widget-view+json": {
       "model_id": "c60e301f2f604ed5b193d99887227434",
       "version_major": 2,
       "version_minor": 0
      },
      "text/plain": [
       "Evaluating:   0%|          | 0/157 [00:00<?, ?it/s]"
      ]
     },
     "metadata": {},
     "output_type": "display_data"
    },
    {
     "data": {
      "application/vnd.jupyter.widget-view+json": {
       "model_id": "c4bad28395494b92b3d39780ad5d8f2a",
       "version_major": 2,
       "version_minor": 0
      },
      "text/plain": [
       "Training:   0%|          | 0/1563 [00:00<?, ?it/s]"
      ]
     },
     "metadata": {},
     "output_type": "display_data"
    },
    {
     "data": {
      "application/vnd.jupyter.widget-view+json": {
       "model_id": "c1bdffb37f714f5b957f750f11641f4b",
       "version_major": 2,
       "version_minor": 0
      },
      "text/plain": [
       "Evaluating:   0%|          | 0/157 [00:00<?, ?it/s]"
      ]
     },
     "metadata": {},
     "output_type": "display_data"
    },
    {
     "data": {
      "application/vnd.jupyter.widget-view+json": {
       "model_id": "8c2895e3247f4f3db6098bbbb05fb041",
       "version_major": 2,
       "version_minor": 0
      },
      "text/plain": [
       "Training:   0%|          | 0/1563 [00:00<?, ?it/s]"
      ]
     },
     "metadata": {},
     "output_type": "display_data"
    },
    {
     "data": {
      "application/vnd.jupyter.widget-view+json": {
       "model_id": "0b2357ad7b01425e8e8d3e701edd3bb4",
       "version_major": 2,
       "version_minor": 0
      },
      "text/plain": [
       "Evaluating:   0%|          | 0/157 [00:00<?, ?it/s]"
      ]
     },
     "metadata": {},
     "output_type": "display_data"
    },
    {
     "data": {
      "application/vnd.jupyter.widget-view+json": {
       "model_id": "5fed6219ea6e4955bb303de1d0768326",
       "version_major": 2,
       "version_minor": 0
      },
      "text/plain": [
       "Training:   0%|          | 0/1563 [00:00<?, ?it/s]"
      ]
     },
     "metadata": {},
     "output_type": "display_data"
    },
    {
     "data": {
      "application/vnd.jupyter.widget-view+json": {
       "model_id": "b62f8bb9facb41b59f806be1a67dbf17",
       "version_major": 2,
       "version_minor": 0
      },
      "text/plain": [
       "Evaluating:   0%|          | 0/157 [00:00<?, ?it/s]"
      ]
     },
     "metadata": {},
     "output_type": "display_data"
    },
    {
     "data": {
      "application/vnd.jupyter.widget-view+json": {
       "model_id": "43f2e37347294be6a498f3cda3ae2c71",
       "version_major": 2,
       "version_minor": 0
      },
      "text/plain": [
       "Training:   0%|          | 0/1563 [00:00<?, ?it/s]"
      ]
     },
     "metadata": {},
     "output_type": "display_data"
    },
    {
     "data": {
      "application/vnd.jupyter.widget-view+json": {
       "model_id": "113f67211781405faf5ec4010bc32c16",
       "version_major": 2,
       "version_minor": 0
      },
      "text/plain": [
       "Evaluating:   0%|          | 0/157 [00:00<?, ?it/s]"
      ]
     },
     "metadata": {},
     "output_type": "display_data"
    },
    {
     "data": {
      "application/vnd.jupyter.widget-view+json": {
       "model_id": "75917e51ea0448a5a1722a7f2df95134",
       "version_major": 2,
       "version_minor": 0
      },
      "text/plain": [
       "Training:   0%|          | 0/1563 [00:00<?, ?it/s]"
      ]
     },
     "metadata": {},
     "output_type": "display_data"
    },
    {
     "data": {
      "application/vnd.jupyter.widget-view+json": {
       "model_id": "c43b479ad9794364ae6925ae5e8ec5f4",
       "version_major": 2,
       "version_minor": 0
      },
      "text/plain": [
       "Evaluating:   0%|          | 0/157 [00:00<?, ?it/s]"
      ]
     },
     "metadata": {},
     "output_type": "display_data"
    },
    {
     "data": {
      "application/vnd.jupyter.widget-view+json": {
       "model_id": "2767bf921d334d2c9d15b2dc5eebbaea",
       "version_major": 2,
       "version_minor": 0
      },
      "text/plain": [
       "Training:   0%|          | 0/1563 [00:00<?, ?it/s]"
      ]
     },
     "metadata": {},
     "output_type": "display_data"
    },
    {
     "data": {
      "application/vnd.jupyter.widget-view+json": {
       "model_id": "95ea8c615bd34a49a7cb79e2eb354c2f",
       "version_major": 2,
       "version_minor": 0
      },
      "text/plain": [
       "Evaluating:   0%|          | 0/157 [00:00<?, ?it/s]"
      ]
     },
     "metadata": {},
     "output_type": "display_data"
    },
    {
     "data": {
      "application/vnd.jupyter.widget-view+json": {
       "model_id": "d9743703c4ba4ab4a1cabb628b91d6f0",
       "version_major": 2,
       "version_minor": 0
      },
      "text/plain": [
       "Training:   0%|          | 0/1563 [00:00<?, ?it/s]"
      ]
     },
     "metadata": {},
     "output_type": "display_data"
    },
    {
     "data": {
      "application/vnd.jupyter.widget-view+json": {
       "model_id": "2fc75dbf76d64f6da67ff3d0913fb744",
       "version_major": 2,
       "version_minor": 0
      },
      "text/plain": [
       "Evaluating:   0%|          | 0/157 [00:00<?, ?it/s]"
      ]
     },
     "metadata": {},
     "output_type": "display_data"
    },
    {
     "data": {
      "application/vnd.jupyter.widget-view+json": {
       "model_id": "97efd4c4da014545a642071cfa30572e",
       "version_major": 2,
       "version_minor": 0
      },
      "text/plain": [
       "Training:   0%|          | 0/1563 [00:00<?, ?it/s]"
      ]
     },
     "metadata": {},
     "output_type": "display_data"
    },
    {
     "data": {
      "application/vnd.jupyter.widget-view+json": {
       "model_id": "f2dbf8b4c8224452bc3d82d7db9c2445",
       "version_major": 2,
       "version_minor": 0
      },
      "text/plain": [
       "Evaluating:   0%|          | 0/157 [00:00<?, ?it/s]"
      ]
     },
     "metadata": {},
     "output_type": "display_data"
    },
    {
     "data": {
      "application/vnd.jupyter.widget-view+json": {
       "model_id": "300a1c2ac4464a39b62c10a0c94eacbf",
       "version_major": 2,
       "version_minor": 0
      },
      "text/plain": [
       "Training:   0%|          | 0/1563 [00:00<?, ?it/s]"
      ]
     },
     "metadata": {},
     "output_type": "display_data"
    },
    {
     "data": {
      "application/vnd.jupyter.widget-view+json": {
       "model_id": "c835d95c301f4cdc84b32a26c6fcd355",
       "version_major": 2,
       "version_minor": 0
      },
      "text/plain": [
       "Evaluating:   0%|          | 0/157 [00:00<?, ?it/s]"
      ]
     },
     "metadata": {},
     "output_type": "display_data"
    },
    {
     "data": {
      "application/vnd.jupyter.widget-view+json": {
       "model_id": "353aa58ebf6f4451be986b4fc391bcf1",
       "version_major": 2,
       "version_minor": 0
      },
      "text/plain": [
       "Training:   0%|          | 0/1563 [00:00<?, ?it/s]"
      ]
     },
     "metadata": {},
     "output_type": "display_data"
    },
    {
     "data": {
      "application/vnd.jupyter.widget-view+json": {
       "model_id": "968d6a348b90416aae8a3e6c4ef83fa3",
       "version_major": 2,
       "version_minor": 0
      },
      "text/plain": [
       "Evaluating:   0%|          | 0/157 [00:00<?, ?it/s]"
      ]
     },
     "metadata": {},
     "output_type": "display_data"
    },
    {
     "data": {
      "application/vnd.jupyter.widget-view+json": {
       "model_id": "a417b27c34d14a5190f28881b3210ee5",
       "version_major": 2,
       "version_minor": 0
      },
      "text/plain": [
       "Training:   0%|          | 0/1563 [00:00<?, ?it/s]"
      ]
     },
     "metadata": {},
     "output_type": "display_data"
    },
    {
     "data": {
      "application/vnd.jupyter.widget-view+json": {
       "model_id": "ea08d16f375840abbbab336436eb3270",
       "version_major": 2,
       "version_minor": 0
      },
      "text/plain": [
       "Evaluating:   0%|          | 0/157 [00:00<?, ?it/s]"
      ]
     },
     "metadata": {},
     "output_type": "display_data"
    },
    {
     "data": {
      "application/vnd.jupyter.widget-view+json": {
       "model_id": "b9777e538d10421bb7bfc35277ae4b48",
       "version_major": 2,
       "version_minor": 0
      },
      "text/plain": [
       "Training:   0%|          | 0/1563 [00:00<?, ?it/s]"
      ]
     },
     "metadata": {},
     "output_type": "display_data"
    },
    {
     "data": {
      "application/vnd.jupyter.widget-view+json": {
       "model_id": "aa1f4af0b73a4d02a1bfcdfe0afc4302",
       "version_major": 2,
       "version_minor": 0
      },
      "text/plain": [
       "Evaluating:   0%|          | 0/157 [00:00<?, ?it/s]"
      ]
     },
     "metadata": {},
     "output_type": "display_data"
    },
    {
     "data": {
      "application/vnd.jupyter.widget-view+json": {
       "model_id": "b5a89073b90447e494b9a3359a1088fa",
       "version_major": 2,
       "version_minor": 0
      },
      "text/plain": [
       "Training:   0%|          | 0/1563 [00:00<?, ?it/s]"
      ]
     },
     "metadata": {},
     "output_type": "display_data"
    },
    {
     "data": {
      "application/vnd.jupyter.widget-view+json": {
       "model_id": "d504703d7a4d4508a29bbfbdfbe8262c",
       "version_major": 2,
       "version_minor": 0
      },
      "text/plain": [
       "Evaluating:   0%|          | 0/157 [00:00<?, ?it/s]"
      ]
     },
     "metadata": {},
     "output_type": "display_data"
    },
    {
     "data": {
      "application/vnd.jupyter.widget-view+json": {
       "model_id": "9371cee9fea2402dae6be9168f920157",
       "version_major": 2,
       "version_minor": 0
      },
      "text/plain": [
       "Training:   0%|          | 0/1563 [00:00<?, ?it/s]"
      ]
     },
     "metadata": {},
     "output_type": "display_data"
    },
    {
     "data": {
      "application/vnd.jupyter.widget-view+json": {
       "model_id": "475291b802f24896ad2768af722a78a2",
       "version_major": 2,
       "version_minor": 0
      },
      "text/plain": [
       "Evaluating:   0%|          | 0/157 [00:00<?, ?it/s]"
      ]
     },
     "metadata": {},
     "output_type": "display_data"
    },
    {
     "data": {
      "application/vnd.jupyter.widget-view+json": {
       "model_id": "baf676a3079c44e6be65e0624041df20",
       "version_major": 2,
       "version_minor": 0
      },
      "text/plain": [
       "Training:   0%|          | 0/1563 [00:00<?, ?it/s]"
      ]
     },
     "metadata": {},
     "output_type": "display_data"
    },
    {
     "data": {
      "application/vnd.jupyter.widget-view+json": {
       "model_id": "556dbb81bce94e0485a8cfc410ecbf6b",
       "version_major": 2,
       "version_minor": 0
      },
      "text/plain": [
       "Evaluating:   0%|          | 0/157 [00:00<?, ?it/s]"
      ]
     },
     "metadata": {},
     "output_type": "display_data"
    },
    {
     "data": {
      "application/vnd.jupyter.widget-view+json": {
       "model_id": "732380e9622c44a8a4c487645a6bc25e",
       "version_major": 2,
       "version_minor": 0
      },
      "text/plain": [
       "Training:   0%|          | 0/1563 [00:00<?, ?it/s]"
      ]
     },
     "metadata": {},
     "output_type": "display_data"
    },
    {
     "data": {
      "application/vnd.jupyter.widget-view+json": {
       "model_id": "e91bd09c524544eab561bd0c5dff1783",
       "version_major": 2,
       "version_minor": 0
      },
      "text/plain": [
       "Evaluating:   0%|          | 0/157 [00:00<?, ?it/s]"
      ]
     },
     "metadata": {},
     "output_type": "display_data"
    },
    {
     "data": {
      "application/vnd.jupyter.widget-view+json": {
       "model_id": "57dbf6c95e9f495ba4b64838961b8b73",
       "version_major": 2,
       "version_minor": 0
      },
      "text/plain": [
       "Training:   0%|          | 0/1563 [00:00<?, ?it/s]"
      ]
     },
     "metadata": {},
     "output_type": "display_data"
    },
    {
     "data": {
      "application/vnd.jupyter.widget-view+json": {
       "model_id": "7b5e690ee15c4f93b7de695b70e9647b",
       "version_major": 2,
       "version_minor": 0
      },
      "text/plain": [
       "Evaluating:   0%|          | 0/157 [00:00<?, ?it/s]"
      ]
     },
     "metadata": {},
     "output_type": "display_data"
    },
    {
     "data": {
      "application/vnd.jupyter.widget-view+json": {
       "model_id": "793fda49d52b4081be90a6d4db9ecefd",
       "version_major": 2,
       "version_minor": 0
      },
      "text/plain": [
       "Training:   0%|          | 0/1563 [00:00<?, ?it/s]"
      ]
     },
     "metadata": {},
     "output_type": "display_data"
    },
    {
     "data": {
      "application/vnd.jupyter.widget-view+json": {
       "model_id": "b53a9fe5c61148ccb4c9dce526111d07",
       "version_major": 2,
       "version_minor": 0
      },
      "text/plain": [
       "Evaluating:   0%|          | 0/157 [00:00<?, ?it/s]"
      ]
     },
     "metadata": {},
     "output_type": "display_data"
    }
   ],
   "source": [
    "# Training the baseline model for 50 epochs\n",
    "\n",
    "baseline_results = train_model(model=baseline_model,\n",
    "                               train_dataloader=train_dataloader,\n",
    "                               test_dataloader=val_dataloader,\n",
    "                               optimizer=baseline_optimizer,\n",
    "                               loss_fn=baseline_loss_fn,\n",
    "                               scheduler=baseline_lr_scheduler,\n",
    "                               model_save_path=\"models/baseline_vit.pth\",\n",
    "                               epochs=50,\n",
    "                               device=device)"
   ]
  },
  {
   "cell_type": "code",
   "execution_count": 63,
   "id": "0bad02ea-0800-42a1-a190-23b617e1e7b5",
   "metadata": {
    "execution": {
     "iopub.execute_input": "2025-02-09T22:32:29.621875Z",
     "iopub.status.busy": "2025-02-09T22:32:29.621354Z",
     "iopub.status.idle": "2025-02-09T22:32:30.084394Z",
     "shell.execute_reply": "2025-02-09T22:32:30.084006Z",
     "shell.execute_reply.started": "2025-02-09T22:32:29.621853Z"
    }
   },
   "outputs": [
    {
     "data": {
      "image/png": "[encoded data removed]",
      "text/plain": [
       "<Figure size 1500x700 with 2 Axes>"
      ]
     },
     "metadata": {},
     "output_type": "display_data"
    }
   ],
   "source": [
    "plot_loss_curves(baseline_results)"
   ]
  },
  {
   "cell_type": "markdown",
   "id": "a225a235-1ae4-4fdd-94a7-7d1d3148d8ea",
   "metadata": {},
   "source": [
    "As we can see our model is learning steadily and the training loss keeps dropping smoothly per epoch. While the accuracy is low, near 20%, this is expected when training a model like the Vision Transformer from scratch is a very difficult task. Vast amounts of data is needed to get any good accuracy on a transformer model. The authors of the original paper pre-trained the model on **JFT-300M** data set and then fine tuned the model on smaller data sets."
   ]
  },
  {
   "cell_type": "markdown",
   "id": "acc99a82-f67c-4a29-acc8-05b416ddd7c9",
   "metadata": {},
   "source": [
    "## 4 Predicting on unseen data\n",
    "\n",
    "Let's now use the unseen test data to predict its classes using our model. We will:\n",
    "1. Create a new model instance\n",
    "2. Load the saved `baseline_model_weights`\n",
    "3. Use this model to make some predictions on test images"
   ]
  },
  {
   "cell_type": "code",
   "execution_count": 23,
   "id": "9b477613-2a91-4f6a-82bb-db55214a2788",
   "metadata": {
    "execution": {
     "iopub.execute_input": "2025-02-09T23:03:05.940296Z",
     "iopub.status.busy": "2025-02-09T23:03:05.939859Z",
     "iopub.status.idle": "2025-02-09T23:03:05.942760Z",
     "shell.execute_reply": "2025-02-09T23:03:05.942251Z",
     "shell.execute_reply.started": "2025-02-09T23:03:05.940279Z"
    }
   },
   "outputs": [],
   "source": [
    "import random"
   ]
  },
  {
   "cell_type": "code",
   "execution_count": 16,
   "id": "70ee3191-a116-46d1-9933-943f91a516bd",
   "metadata": {
    "execution": {
     "iopub.execute_input": "2025-02-09T22:58:00.855563Z",
     "iopub.status.busy": "2025-02-09T22:58:00.854981Z",
     "iopub.status.idle": "2025-02-09T22:58:00.911084Z",
     "shell.execute_reply": "2025-02-09T22:58:00.910678Z",
     "shell.execute_reply.started": "2025-02-09T22:58:00.855563Z"
    }
   },
   "outputs": [
    {
     "data": {
      "text/plain": [
       "ViT(\n",
       "  (embedding_dropout): Dropout(p=0.1, inplace=False)\n",
       "  (patch_embed_layer): PatchEmbeddings(\n",
       "    (patcher): Conv2d(3, 256, kernel_size=(4, 4), stride=(4, 4))\n",
       "    (flatten): Flatten(start_dim=2, end_dim=3)\n",
       "  )\n",
       "  (tfm_enc_blocks): Sequential(\n",
       "    (0): TransformerEncoderBlock(\n",
       "      (msa): MultiHeadSelfAttentionBlock(\n",
       "        (norm): LayerNorm((256,), eps=1e-05, elementwise_affine=True)\n",
       "        (attn): MultiheadAttention(\n",
       "          (out_proj): NonDynamicallyQuantizableLinear(in_features=256, out_features=256, bias=True)\n",
       "        )\n",
       "      )\n",
       "      (mlp): MLPLayer(\n",
       "        (norm): LayerNorm((256,), eps=1e-05, elementwise_affine=True)\n",
       "        (mlp): Sequential(\n",
       "          (0): Linear(in_features=256, out_features=1024, bias=True)\n",
       "          (1): GELU(approximate='none')\n",
       "          (2): Dropout(p=0.1, inplace=False)\n",
       "          (3): Linear(in_features=1024, out_features=256, bias=True)\n",
       "          (4): Dropout(p=0.1, inplace=False)\n",
       "        )\n",
       "      )\n",
       "    )\n",
       "  )\n",
       "  (fcs): Sequential(\n",
       "    (0): LayerNorm((256,), eps=1e-05, elementwise_affine=True)\n",
       "    (1): Linear(in_features=256, out_features=200, bias=True)\n",
       "  )\n",
       ")"
      ]
     },
     "execution_count": 16,
     "metadata": {},
     "output_type": "execute_result"
    }
   ],
   "source": [
    "prod_model = ViT(num_transformer_layers=1)\n",
    "prod_model.load_state_dict(torch.load(\"models/baseline_vit.pth\"))\n",
    "prod_model.to(device)"
   ]
  },
  {
   "cell_type": "code",
   "execution_count": 46,
   "id": "b6995cfc-3a2e-4a28-836b-f307128f6f13",
   "metadata": {
    "execution": {
     "iopub.execute_input": "2025-02-09T23:14:25.927765Z",
     "iopub.status.busy": "2025-02-09T23:14:25.926282Z",
     "iopub.status.idle": "2025-02-09T23:14:26.062050Z",
     "shell.execute_reply": "2025-02-09T23:14:26.061493Z",
     "shell.execute_reply.started": "2025-02-09T23:14:25.927763Z"
    }
   },
   "outputs": [
    {
     "name": "stdout",
     "output_type": "stream",
     "text": [
      "Number of test images: 9\n",
      "Shape of test batch: torch.Size([9, 3, 64, 64])\n"
     ]
    }
   ],
   "source": [
    "transform = T.Compose([\n",
    "    T.Resize((64, 64)),\n",
    "    T.ToTensor()\n",
    "])\n",
    "\n",
    "\n",
    "def load_test_images():\n",
    "    test_images_path = \"tiny-imagenet-200/test/images\"\n",
    "    images = list(os.listdir(test_images_path))\n",
    "    test_batch = []\n",
    "    \n",
    "    for img in random.sample(images, k=9):\n",
    "        img_path = os.path.join(test_images_path, img)\n",
    "        img = Image.open(img_path).convert(\"RGB\")\n",
    "        img = transform(img)\n",
    "        test_batch.append(img)\n",
    "    \n",
    "    return torch.stack(test_batch)\n",
    "\n",
    "\n",
    "test_batch = load_test_images()\n",
    "print(f\"Number of test images: {len(test_batch)}\")\n",
    "print(f\"Shape of test batch: {test_batch.shape}\")"
   ]
  },
  {
   "cell_type": "code",
   "execution_count": 47,
   "id": "3b8b39d0-8899-41e8-a442-d182655c8356",
   "metadata": {
    "execution": {
     "iopub.execute_input": "2025-02-09T23:14:26.872247Z",
     "iopub.status.busy": "2025-02-09T23:14:26.872007Z",
     "iopub.status.idle": "2025-02-09T23:14:26.884157Z",
     "shell.execute_reply": "2025-02-09T23:14:26.883633Z",
     "shell.execute_reply.started": "2025-02-09T23:14:26.872224Z"
    }
   },
   "outputs": [],
   "source": [
    "prod_model.eval()\n",
    "preds = prod_model(test_batch.to(device))\n",
    "pred_classes = torch.argmax(preds, dim=1)"
   ]
  },
  {
   "cell_type": "code",
   "execution_count": 48,
   "id": "9fd30864-6734-4acb-93a0-8d85810c2e80",
   "metadata": {
    "execution": {
     "iopub.execute_input": "2025-02-09T23:14:27.983348Z",
     "iopub.status.busy": "2025-02-09T23:14:27.982930Z",
     "iopub.status.idle": "2025-02-09T23:14:27.987159Z",
     "shell.execute_reply": "2025-02-09T23:14:27.986666Z",
     "shell.execute_reply.started": "2025-02-09T23:14:27.983328Z"
    }
   },
   "outputs": [
    {
     "name": "stdout",
     "output_type": "stream",
     "text": [
      "Predicted classes: tensor([ 84,  12, 171, 183, 133, 189,  70, 176, 186], device='cuda:0')\n"
     ]
    }
   ],
   "source": [
    "print(f\"Predicted classes: {pred_classes}\")"
   ]
  },
  {
   "cell_type": "code",
   "execution_count": 49,
   "id": "d8eff69f-01df-48af-af88-27e9fd0a2a5e",
   "metadata": {
    "execution": {
     "iopub.execute_input": "2025-02-09T23:14:28.918788Z",
     "iopub.status.busy": "2025-02-09T23:14:28.918251Z",
     "iopub.status.idle": "2025-02-09T23:14:29.275390Z",
     "shell.execute_reply": "2025-02-09T23:14:29.274995Z",
     "shell.execute_reply.started": "2025-02-09T23:14:28.918761Z"
    }
   },
   "outputs": [
    {
     "data": {
      "image/png": "[encoded data removed]",
      "text/plain": [
       "<Figure size 800x800 with 9 Axes>"
      ]
     },
     "metadata": {},
     "output_type": "display_data"
    }
   ],
   "source": [
    "def plot_img_predictions(imgs: list, predictions: list):\n",
    "    fig, ax = plt.subplots(3, 3, figsize=(8, 8))\n",
    "    \n",
    "    for i, ax in enumerate(ax.flat):\n",
    "        ax.imshow(imgs[i].permute(2, 1, 0))\n",
    "        ax.set_title(f\"Predicted class: {idx_to_class[predictions[i]]}\")\n",
    "        ax.axis(\"off\")\n",
    "    \n",
    "    plt.tight_layout()\n",
    "    plt.show()\n",
    "\n",
    "\n",
    "plot_img_predictions(test_batch, pred_classes.tolist())"
   ]
  },
  {
   "cell_type": "markdown",
   "id": "31328a3e",
   "metadata": {},
   "source": [
    "## Conclusion & Next Steps\n",
    "\n",
    "In this notebook, we successfully implemented a Vision Transformer (ViT) from scratch and trained it on the Tiny ImageNet dataset. We explored key ViT components, including patch embeddings, multi-head self-attention, and transformer encoder blocks, and built a modular training pipeline using PyTorch.\n",
    "\n",
    "Although training ViTs from scratch on small datasets is challenging, we achieved promising results. Future improvements could include:\n",
    "✅ Using a pre-trained ViT model for fine-tuning on Tiny ImageNet.\n",
    "✅ Increasing patch size (e.g., 16×16) to improve computational efficiency.\n",
    "✅ Exploring data augmentation techniques like MixUp and CutMix.\n",
    "✅ Visualizing attention maps to understand how the model focuses on different image regions.\n",
    "\n",
    "This project highlights the potential of transformers in vision tasks and provides a strong foundation for further research in deep learning and computer vision."
   ]
  },
  {
   "cell_type": "code",
   "execution_count": null,
   "id": "a5c94703-e9d5-4456-ab63-15c0cc5f2033",
   "metadata": {},
   "outputs": [],
   "source": []
  }
 ],
 "metadata": {
  "kernelspec": {
   "display_name": "Python 3 (ipykernel)",
   "language": "python",
   "name": "python3"
  },
  "language_info": {
   "codemirror_mode": {
    "name": "ipython",
    "version": 3
   },
   "file_extension": ".py",
   "mimetype": "text/x-python",
   "name": "python",
   "nbconvert_exporter": "python",
   "pygments_lexer": "ipython3",
   "version": "3.11.7"
  }
 },
 "nbformat": 4,
 "nbformat_minor": 5
}
